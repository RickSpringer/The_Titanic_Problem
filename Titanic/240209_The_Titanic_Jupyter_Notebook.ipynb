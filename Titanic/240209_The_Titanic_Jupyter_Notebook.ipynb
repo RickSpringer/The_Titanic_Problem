{
 "cells": [
  {
   "cell_type": "markdown",
   "source": [
    "# The Titanic Problem Notebook\n",
    "## 1. Import Module & Benennung des Datensets "
   ],
   "metadata": {
    "collapsed": false
   },
   "id": "54bda5ee7c58ed4d"
  },
  {
   "cell_type": "code",
   "outputs": [
    {
     "data": {
      "text/plain": "     PassengerId  Survived  Pclass  \\\n0              1         0       3   \n1              2         1       1   \n2              3         1       3   \n3              4         1       1   \n4              5         0       3   \n..           ...       ...     ...   \n886          887         0       2   \n887          888         1       1   \n888          889         0       3   \n889          890         1       1   \n890          891         0       3   \n\n                                                  Name     Sex   Age  SibSp  \\\n0                              Braund, Mr. Owen Harris    male  22.0      1   \n1    Cumings, Mrs. John Bradley (Florence Briggs Th...  female  38.0      1   \n2                               Heikkinen, Miss. Laina  female  26.0      0   \n3         Futrelle, Mrs. Jacques Heath (Lily May Peel)  female  35.0      1   \n4                             Allen, Mr. William Henry    male  35.0      0   \n..                                                 ...     ...   ...    ...   \n886                              Montvila, Rev. Juozas    male  27.0      0   \n887                       Graham, Miss. Margaret Edith  female  19.0      0   \n888           Johnston, Miss. Catherine Helen \"Carrie\"  female   NaN      1   \n889                              Behr, Mr. Karl Howell    male  26.0      0   \n890                                Dooley, Mr. Patrick    male  32.0      0   \n\n     Parch            Ticket     Fare Cabin Embarked  \n0        0         A/5 21171   7.2500   NaN        S  \n1        0          PC 17599  71.2833   C85        C  \n2        0  STON/O2. 3101282   7.9250   NaN        S  \n3        0            113803  53.1000  C123        S  \n4        0            373450   8.0500   NaN        S  \n..     ...               ...      ...   ...      ...  \n886      0            211536  13.0000   NaN        S  \n887      0            112053  30.0000   B42        S  \n888      2        W./C. 6607  23.4500   NaN        S  \n889      0            111369  30.0000  C148        C  \n890      0            370376   7.7500   NaN        Q  \n\n[891 rows x 12 columns]",
      "text/html": "<div>\n<style scoped>\n    .dataframe tbody tr th:only-of-type {\n        vertical-align: middle;\n    }\n\n    .dataframe tbody tr th {\n        vertical-align: top;\n    }\n\n    .dataframe thead th {\n        text-align: right;\n    }\n</style>\n<table border=\"1\" class=\"dataframe\">\n  <thead>\n    <tr style=\"text-align: right;\">\n      <th></th>\n      <th>PassengerId</th>\n      <th>Survived</th>\n      <th>Pclass</th>\n      <th>Name</th>\n      <th>Sex</th>\n      <th>Age</th>\n      <th>SibSp</th>\n      <th>Parch</th>\n      <th>Ticket</th>\n      <th>Fare</th>\n      <th>Cabin</th>\n      <th>Embarked</th>\n    </tr>\n  </thead>\n  <tbody>\n    <tr>\n      <th>0</th>\n      <td>1</td>\n      <td>0</td>\n      <td>3</td>\n      <td>Braund, Mr. Owen Harris</td>\n      <td>male</td>\n      <td>22.0</td>\n      <td>1</td>\n      <td>0</td>\n      <td>A/5 21171</td>\n      <td>7.2500</td>\n      <td>NaN</td>\n      <td>S</td>\n    </tr>\n    <tr>\n      <th>1</th>\n      <td>2</td>\n      <td>1</td>\n      <td>1</td>\n      <td>Cumings, Mrs. John Bradley (Florence Briggs Th...</td>\n      <td>female</td>\n      <td>38.0</td>\n      <td>1</td>\n      <td>0</td>\n      <td>PC 17599</td>\n      <td>71.2833</td>\n      <td>C85</td>\n      <td>C</td>\n    </tr>\n    <tr>\n      <th>2</th>\n      <td>3</td>\n      <td>1</td>\n      <td>3</td>\n      <td>Heikkinen, Miss. Laina</td>\n      <td>female</td>\n      <td>26.0</td>\n      <td>0</td>\n      <td>0</td>\n      <td>STON/O2. 3101282</td>\n      <td>7.9250</td>\n      <td>NaN</td>\n      <td>S</td>\n    </tr>\n    <tr>\n      <th>3</th>\n      <td>4</td>\n      <td>1</td>\n      <td>1</td>\n      <td>Futrelle, Mrs. Jacques Heath (Lily May Peel)</td>\n      <td>female</td>\n      <td>35.0</td>\n      <td>1</td>\n      <td>0</td>\n      <td>113803</td>\n      <td>53.1000</td>\n      <td>C123</td>\n      <td>S</td>\n    </tr>\n    <tr>\n      <th>4</th>\n      <td>5</td>\n      <td>0</td>\n      <td>3</td>\n      <td>Allen, Mr. William Henry</td>\n      <td>male</td>\n      <td>35.0</td>\n      <td>0</td>\n      <td>0</td>\n      <td>373450</td>\n      <td>8.0500</td>\n      <td>NaN</td>\n      <td>S</td>\n    </tr>\n    <tr>\n      <th>...</th>\n      <td>...</td>\n      <td>...</td>\n      <td>...</td>\n      <td>...</td>\n      <td>...</td>\n      <td>...</td>\n      <td>...</td>\n      <td>...</td>\n      <td>...</td>\n      <td>...</td>\n      <td>...</td>\n      <td>...</td>\n    </tr>\n    <tr>\n      <th>886</th>\n      <td>887</td>\n      <td>0</td>\n      <td>2</td>\n      <td>Montvila, Rev. Juozas</td>\n      <td>male</td>\n      <td>27.0</td>\n      <td>0</td>\n      <td>0</td>\n      <td>211536</td>\n      <td>13.0000</td>\n      <td>NaN</td>\n      <td>S</td>\n    </tr>\n    <tr>\n      <th>887</th>\n      <td>888</td>\n      <td>1</td>\n      <td>1</td>\n      <td>Graham, Miss. Margaret Edith</td>\n      <td>female</td>\n      <td>19.0</td>\n      <td>0</td>\n      <td>0</td>\n      <td>112053</td>\n      <td>30.0000</td>\n      <td>B42</td>\n      <td>S</td>\n    </tr>\n    <tr>\n      <th>888</th>\n      <td>889</td>\n      <td>0</td>\n      <td>3</td>\n      <td>Johnston, Miss. Catherine Helen \"Carrie\"</td>\n      <td>female</td>\n      <td>NaN</td>\n      <td>1</td>\n      <td>2</td>\n      <td>W./C. 6607</td>\n      <td>23.4500</td>\n      <td>NaN</td>\n      <td>S</td>\n    </tr>\n    <tr>\n      <th>889</th>\n      <td>890</td>\n      <td>1</td>\n      <td>1</td>\n      <td>Behr, Mr. Karl Howell</td>\n      <td>male</td>\n      <td>26.0</td>\n      <td>0</td>\n      <td>0</td>\n      <td>111369</td>\n      <td>30.0000</td>\n      <td>C148</td>\n      <td>C</td>\n    </tr>\n    <tr>\n      <th>890</th>\n      <td>891</td>\n      <td>0</td>\n      <td>3</td>\n      <td>Dooley, Mr. Patrick</td>\n      <td>male</td>\n      <td>32.0</td>\n      <td>0</td>\n      <td>0</td>\n      <td>370376</td>\n      <td>7.7500</td>\n      <td>NaN</td>\n      <td>Q</td>\n    </tr>\n  </tbody>\n</table>\n<p>891 rows × 12 columns</p>\n</div>"
     },
     "execution_count": 99,
     "metadata": {},
     "output_type": "execute_result"
    }
   ],
   "source": [
    "import pandas as pd\n",
    "import seaborn as sns\n",
    "import matplotlib.pyplot as plt\n",
    "\n",
    "titanic_data = pd.read_csv(r'..\\titanic.csv')\n",
    "titanic_data"
   ],
   "metadata": {
    "collapsed": false,
    "ExecuteTime": {
     "end_time": "2024-02-09T11:19:59.066689400Z",
     "start_time": "2024-02-09T11:19:58.753732900Z"
    }
   },
   "id": "61c09df90fddf657",
   "execution_count": 99
  },
  {
   "cell_type": "markdown",
   "source": [
    "## 2. Datenerfassung\n",
    "### 2.1 Beobachtungen & Fragen\n",
    "Der Datensatz umfasst *12 Spalten* und 891 Zeilen mit Informationen zu Passagieren der Titanic. Anbei eine Übersicht der Spalten und der hinterlegten Informationen:\n",
    "**1. 'PassengerId'**\n",
    "Enthält die PassagierId. Die hinterlegten Zahlen stehen für die IDs und reichen von 1 - 891.\n",
    "\n",
    "**2. 'Survived'**\n",
    "Enthält den Überlebensstatus. 0 = hat nicht überlebt. 1 = hat überlebt.\n",
    " \n",
    "**3. 'Pclass'**\n",
    "Enthält die Passagierklasse. Die Zahlen der unterschiedlichen Klassen reichen von 1 - 3.\n",
    "Frage: Wo genau lagen die Kabinen der Klassen auf dem Schiff? Sind sie etwa Etagen zugeordnet? Wie ist der Zusammenhang zwischen Pclass und Parch?\n",
    "  \n",
    "**4. 'Name'**\n",
    "Enthält die nachfolgenden Informationen in der Reihenfolge:\n",
    "\n",
    "*a. {Nachname} = Nachnamen. Wird in neue Spalte **'Surname'** ausgegliedert. Die Nachnamen werden in eine eigene Spalte {Surname} extrahiert, um später einfacher an Anreden/ Titel zu gelangen. Die Nachname  liegen als einfache Strings vor, z.B. 'Braund', 'Cumings' ...*\n",
    "\n",
    "*b.  ',' = konstanter Separator nach 'Surname'*\n",
    "\n",
    "*c.  {Anrede/ Titel} = Titel oder Anreden. Wird in neue Spalte **'Address'** ausgegliedert.*\n",
    "\n",
    "*d.  Enthält verschiedene Titel und Anreden. Titel [], Anreden []*\n",
    "\n",
    "*e.  '.' = konstanter Separator nach 'Address'*\n",
    "\n",
    "*f.  {Vornamen} = ein oder mehrere Vornamen. Wird in neue Spalte **'First Name'** ausgegliedert. Die einzelnen Vornamen sind durch ' ' getrennt. Wenn 'Address' nicht 'Miss' ist, werden zuerst die Vornamen des Ehemanns angegeben.*\n",
    "\n",
    "*g.  {Mädchenname} = Mädchenname. Wird in neue Spalte **'Maiden Name'** ausgegliedert. Wenn Titel/Anrede 'Mrs' ist, wird am Ende der Mädchenname in Klammern angegeben, z.B. (Florence Briggs Thayer). Spitznamen sind teilweise in Anführungszeichen angegeben, z.B. \"Frankie\"*\n",
    "                                                                        \n",
    "**5. 'Sex'**\n",
    "Enthält das Geschlecht des Passagiers. Entweder 'female' für weiblich oder 'male' für männlich.\n",
    "\n",
    "**6. 'Age'**\n",
    "Enthält das Alter des Passagiers als Float.\n",
    "\n",
    "**7. 'SibSp'**\n",
    "Enthält die Geschwisteranzahl des Passagiers als Ganzzahl.\n",
    "\n",
    "**8. 'Parch'**\n",
    "Enthält Informationen zum Zustand der Umgebung?!\n",
    "\n",
    "**9. 'Ticket'**\n",
    "Enthält Ticketnamen. Diese Bezeichnungen setzten sich entweder nur aus Zahlen, aus einer Buchstabenfolge und Zahlen oder einer Kombination aus Sonderzeichen, Buchstaben und Zahlen.\n",
    "\n",
    "**10. 'Fare'**\n",
    "Enthält den Ticketpreis als Float mit 4 Nachkommastellen.\n",
    "\n",
    "**11. 'Cabin'**\n",
    "Enthält den Namen der Kabine des Passagiers. Setzt sich zusammen aus Buchstaben und Zahlenfolge, bsp. 'C85', 'E46'.\n",
    "\n",
    "**12 'Embarked'**\n",
    "Enthält den Ort, an dem der Passagier zugestiegen ist. S = Southampton (England), C = Cherbourg (Frankreich), Q = Queenstown (Irland)."
   ],
   "metadata": {
    "collapsed": false
   },
   "id": "b5a1cc2aafdb74af"
  },
  {
   "cell_type": "markdown",
   "source": [
    "### 2.2 Dynamische Indexierung\n",
    "Muss am Ende der Datenbereinigung einmalig ausgeführt werden."
   ],
   "metadata": {
    "collapsed": false
   },
   "id": "b88ae2394415836e"
  },
  {
   "cell_type": "code",
   "outputs": [],
   "source": [
    "titanic_index = pd.Index(titanic_data.columns)\n",
    "# titanic_index.get_loc('Surname')"
   ],
   "metadata": {
    "collapsed": false,
    "ExecuteTime": {
     "end_time": "2024-02-09T11:19:59.218655500Z",
     "start_time": "2024-02-09T11:19:59.070289500Z"
    }
   },
   "id": "7755dcc257536f53",
   "execution_count": 100
  },
  {
   "cell_type": "markdown",
   "source": [
    "## 3. Datenbereinigung \n"
   ],
   "metadata": {
    "collapsed": false
   },
   "id": "ae69bf3bd10ce390"
  },
  {
   "cell_type": "markdown",
   "source": [
    "## 3.1 Special Case: Noël Leslie, Countess of Rothes "
   ],
   "metadata": {
    "collapsed": false
   },
   "id": "f1b79ba21c60498c"
  },
  {
   "cell_type": "code",
   "outputs": [
    {
     "data": {
      "text/plain": "PassengerId                                                  760\nSurvived                                                       1\nPclass                                                         1\nName           Rothes, the Countess. of (Lucy Noel Martha Dye...\nSex                                                       female\nAge                                                         33.0\nSibSp                                                          0\nParch                                                          0\nTicket                                                    110152\nFare                                                        86.5\nCabin                                                        B77\nEmbarked                                                       S\nName: 759, dtype: object"
     },
     "execution_count": 101,
     "metadata": {},
     "output_type": "execute_result"
    }
   ],
   "source": [
    "test_df = titanic_data['Name'].str.split(r'\\s', regex=True, expand=True, n=1)\n",
    "test_df.columns = ['Address', 'First Name']\n",
    "test_df['Address'].value_counts()\n",
    "test_df.query(\"Address == 'the'\")\n",
    "#test_df.get('Address') == 'the'\n",
    "titanic_data.iloc[759]\n"
   ],
   "metadata": {
    "collapsed": false,
    "ExecuteTime": {
     "end_time": "2024-02-09T11:19:59.412331Z",
     "start_time": "2024-02-09T11:19:59.197524100Z"
    }
   },
   "id": "6491671370bfb18d",
   "execution_count": 101
  },
  {
   "cell_type": "code",
   "outputs": [],
   "source": [
    "# 'of ' wird aus dem Passagiernamen gestrichen, da er sonst später als Vorname aufgeführt wird.\n",
    "rothes = titanic_data[titanic_data['Name'].str.contains('Rothes')]\n",
    "titanic_data.loc[rothes.index,'Name'] = rothes['Name'].str.replace(r'of ', repl='', regex=True)\n"
   ],
   "metadata": {
    "collapsed": false,
    "ExecuteTime": {
     "end_time": "2024-02-09T11:19:59.515412800Z",
     "start_time": "2024-02-09T11:19:59.386314200Z"
    }
   },
   "id": "1f3543de588a4409",
   "execution_count": 102
  },
  {
   "cell_type": "code",
   "outputs": [
    {
     "data": {
      "text/plain": "759    Rothes, the Countess. (Lucy Noel Martha Dyer-E...\nName: Name, dtype: object"
     },
     "execution_count": 103,
     "metadata": {},
     "output_type": "execute_result"
    }
   ],
   "source": [
    "titanic_data.loc[rothes.index,'Name']"
   ],
   "metadata": {
    "collapsed": false,
    "ExecuteTime": {
     "end_time": "2024-02-09T11:19:59.775961800Z",
     "start_time": "2024-02-09T11:19:59.522507300Z"
    }
   },
   "id": "e3424f7f30a28d9f",
   "execution_count": 103
  },
  {
   "cell_type": "markdown",
   "source": [
    "### 3.2 Trennung der Namen zu 'Surname' und 'Name'"
   ],
   "metadata": {
    "collapsed": false
   },
   "id": "e393125ac49607bc"
  },
  {
   "cell_type": "code",
   "outputs": [],
   "source": [
    "names_df = titanic_data['Name'].str.split(', ', n=1, expand=True)\n",
    "titanic_data.insert(3, 'Surname', names_df[0])\n",
    "titanic_data.insert(4, 'name', names_df[1])\n"
   ],
   "metadata": {
    "collapsed": false,
    "ExecuteTime": {
     "end_time": "2024-02-09T11:19:59.878324Z",
     "start_time": "2024-02-09T11:19:59.779514700Z"
    }
   },
   "id": "af120525b4360862",
   "execution_count": 104
  },
  {
   "cell_type": "code",
   "outputs": [],
   "source": [
    "del titanic_data['Name']\n",
    "titanic_data.rename({'name': 'Name'}, axis=1, inplace=True)\n"
   ],
   "metadata": {
    "collapsed": false,
    "ExecuteTime": {
     "end_time": "2024-02-09T11:19:59.999967900Z",
     "start_time": "2024-02-09T11:19:59.856789400Z"
    }
   },
   "id": "19af949150044a6c",
   "execution_count": 105
  },
  {
   "cell_type": "code",
   "outputs": [
    {
     "data": {
      "text/plain": "       Surname                                        Name\n0       Braund                             Mr. Owen Harris\n1      Cumings  Mrs. John Bradley (Florence Briggs Thayer)\n2    Heikkinen                                 Miss. Laina\n3     Futrelle          Mrs. Jacques Heath (Lily May Peel)\n4        Allen                           Mr. William Henry\n..         ...                                         ...\n886   Montvila                                 Rev. Juozas\n887     Graham                        Miss. Margaret Edith\n888   Johnston              Miss. Catherine Helen \"Carrie\"\n889       Behr                             Mr. Karl Howell\n890     Dooley                                 Mr. Patrick\n\n[891 rows x 2 columns]",
      "text/html": "<div>\n<style scoped>\n    .dataframe tbody tr th:only-of-type {\n        vertical-align: middle;\n    }\n\n    .dataframe tbody tr th {\n        vertical-align: top;\n    }\n\n    .dataframe thead th {\n        text-align: right;\n    }\n</style>\n<table border=\"1\" class=\"dataframe\">\n  <thead>\n    <tr style=\"text-align: right;\">\n      <th></th>\n      <th>Surname</th>\n      <th>Name</th>\n    </tr>\n  </thead>\n  <tbody>\n    <tr>\n      <th>0</th>\n      <td>Braund</td>\n      <td>Mr. Owen Harris</td>\n    </tr>\n    <tr>\n      <th>1</th>\n      <td>Cumings</td>\n      <td>Mrs. John Bradley (Florence Briggs Thayer)</td>\n    </tr>\n    <tr>\n      <th>2</th>\n      <td>Heikkinen</td>\n      <td>Miss. Laina</td>\n    </tr>\n    <tr>\n      <th>3</th>\n      <td>Futrelle</td>\n      <td>Mrs. Jacques Heath (Lily May Peel)</td>\n    </tr>\n    <tr>\n      <th>4</th>\n      <td>Allen</td>\n      <td>Mr. William Henry</td>\n    </tr>\n    <tr>\n      <th>...</th>\n      <td>...</td>\n      <td>...</td>\n    </tr>\n    <tr>\n      <th>886</th>\n      <td>Montvila</td>\n      <td>Rev. Juozas</td>\n    </tr>\n    <tr>\n      <th>887</th>\n      <td>Graham</td>\n      <td>Miss. Margaret Edith</td>\n    </tr>\n    <tr>\n      <th>888</th>\n      <td>Johnston</td>\n      <td>Miss. Catherine Helen \"Carrie\"</td>\n    </tr>\n    <tr>\n      <th>889</th>\n      <td>Behr</td>\n      <td>Mr. Karl Howell</td>\n    </tr>\n    <tr>\n      <th>890</th>\n      <td>Dooley</td>\n      <td>Mr. Patrick</td>\n    </tr>\n  </tbody>\n</table>\n<p>891 rows × 2 columns</p>\n</div>"
     },
     "execution_count": 106,
     "metadata": {},
     "output_type": "execute_result"
    }
   ],
   "source": [
    "titanic_data[['Surname', 'Name']]\n"
   ],
   "metadata": {
    "collapsed": false,
    "ExecuteTime": {
     "end_time": "2024-02-09T11:20:00.088340800Z",
     "start_time": "2024-02-09T11:19:59.964810900Z"
    }
   },
   "id": "e888966b6ffef81b",
   "execution_count": 106
  },
  {
   "cell_type": "markdown",
   "source": [
    "### 3.3 Trennung der Namen in 'Address' und 'First Name'"
   ],
   "metadata": {
    "collapsed": false
   },
   "id": "342455e28d6f1cb1"
  },
  {
   "cell_type": "code",
   "outputs": [],
   "source": [
    "names_df = titanic_data['Name'].str.split(r'\\. ', n=1, regex=True, expand=True)\n",
    "titanic_data.insert(3,'Address', names_df[0])\n",
    "titanic_data['Name'] = titanic_data['Name'].str.replace(r'^[^.]*\\.', '', regex=True)\n"
   ],
   "metadata": {
    "collapsed": false,
    "ExecuteTime": {
     "end_time": "2024-02-09T11:20:00.241387500Z",
     "start_time": "2024-02-09T11:20:00.046928Z"
    }
   },
   "id": "f55d1ddc403ff2d8",
   "execution_count": 107
  },
  {
   "cell_type": "code",
   "outputs": [
    {
     "data": {
      "text/plain": "Address\nMr              517\nMiss            182\nMrs             125\nMaster           40\nDr                7\nRev               6\nMlle              2\nMajor             2\nCol               2\nthe Countess      1\nCapt              1\nMs                1\nSir               1\nLady              1\nMme               1\nDon               1\nJonkheer          1\nName: count, dtype: int64"
     },
     "execution_count": 108,
     "metadata": {},
     "output_type": "execute_result"
    }
   ],
   "source": [
    "titanic_data['Address'].value_counts()\n"
   ],
   "metadata": {
    "collapsed": false,
    "ExecuteTime": {
     "end_time": "2024-02-09T11:20:00.412371600Z",
     "start_time": "2024-02-09T11:20:00.180458800Z"
    }
   },
   "id": "a4a8696243e0ab21",
   "execution_count": 108
  },
  {
   "cell_type": "markdown",
   "source": [
    "### 3.4 Trennung der Mädchennamen zu 'Name' und 'Maiden Name'"
   ],
   "metadata": {
    "collapsed": false
   },
   "id": "1fb477b81398c5e4"
  },
  {
   "cell_type": "code",
   "execution_count": 109,
   "outputs": [],
   "source": [
    "titanic_index = pd.Index(titanic_data.columns)\n",
    "names_df = titanic_data['Name'].str.extract(r'\\((.*?)\\)', expand=False)\n",
    "titanic_data.insert(titanic_index.get_loc('Name') + 1, column='Maiden Name', value=names_df)\n",
    "# titanic_data['Maiden Name'].fillna('', inplace=True)\n"
   ],
   "metadata": {
    "collapsed": false,
    "ExecuteTime": {
     "end_time": "2024-02-09T11:20:25.934712100Z",
     "start_time": "2024-02-09T11:20:25.915722100Z"
    }
   },
   "id": "fd7d40c319904917"
  },
  {
   "cell_type": "code",
   "outputs": [
    {
     "data": {
      "text/plain": "     PassengerId  Survived  Pclass Address    Surname  \\\n0              1         0       3      Mr     Braund   \n1              2         1       1     Mrs    Cumings   \n2              3         1       3    Miss  Heikkinen   \n3              4         1       1     Mrs   Futrelle   \n4              5         0       3      Mr      Allen   \n..           ...       ...     ...     ...        ...   \n886          887         0       2     Rev   Montvila   \n887          888         1       1    Miss     Graham   \n888          889         0       3    Miss   Johnston   \n889          890         1       1      Mr       Behr   \n890          891         0       3      Mr     Dooley   \n\n                                       Name             Maiden Name     Sex  \\\n0                               Owen Harris                     NaN    male   \n1     John Bradley (Florence Briggs Thayer)  Florence Briggs Thayer  female   \n2                                     Laina                     NaN  female   \n3             Jacques Heath (Lily May Peel)           Lily May Peel  female   \n4                             William Henry                     NaN    male   \n..                                      ...                     ...     ...   \n886                                  Juozas                     NaN    male   \n887                          Margaret Edith                     NaN  female   \n888                Catherine Helen \"Carrie\"                     NaN  female   \n889                             Karl Howell                     NaN    male   \n890                                 Patrick                     NaN    male   \n\n      Age  SibSp  Parch            Ticket     Fare Cabin Embarked  \n0    22.0      1      0         A/5 21171   7.2500   NaN        S  \n1    38.0      1      0          PC 17599  71.2833   C85        C  \n2    26.0      0      0  STON/O2. 3101282   7.9250   NaN        S  \n3    35.0      1      0            113803  53.1000  C123        S  \n4    35.0      0      0            373450   8.0500   NaN        S  \n..    ...    ...    ...               ...      ...   ...      ...  \n886  27.0      0      0            211536  13.0000   NaN        S  \n887  19.0      0      0            112053  30.0000   B42        S  \n888   NaN      1      2        W./C. 6607  23.4500   NaN        S  \n889  26.0      0      0            111369  30.0000  C148        C  \n890  32.0      0      0            370376   7.7500   NaN        Q  \n\n[891 rows x 15 columns]",
      "text/html": "<div>\n<style scoped>\n    .dataframe tbody tr th:only-of-type {\n        vertical-align: middle;\n    }\n\n    .dataframe tbody tr th {\n        vertical-align: top;\n    }\n\n    .dataframe thead th {\n        text-align: right;\n    }\n</style>\n<table border=\"1\" class=\"dataframe\">\n  <thead>\n    <tr style=\"text-align: right;\">\n      <th></th>\n      <th>PassengerId</th>\n      <th>Survived</th>\n      <th>Pclass</th>\n      <th>Address</th>\n      <th>Surname</th>\n      <th>Name</th>\n      <th>Maiden Name</th>\n      <th>Sex</th>\n      <th>Age</th>\n      <th>SibSp</th>\n      <th>Parch</th>\n      <th>Ticket</th>\n      <th>Fare</th>\n      <th>Cabin</th>\n      <th>Embarked</th>\n    </tr>\n  </thead>\n  <tbody>\n    <tr>\n      <th>0</th>\n      <td>1</td>\n      <td>0</td>\n      <td>3</td>\n      <td>Mr</td>\n      <td>Braund</td>\n      <td>Owen Harris</td>\n      <td>NaN</td>\n      <td>male</td>\n      <td>22.0</td>\n      <td>1</td>\n      <td>0</td>\n      <td>A/5 21171</td>\n      <td>7.2500</td>\n      <td>NaN</td>\n      <td>S</td>\n    </tr>\n    <tr>\n      <th>1</th>\n      <td>2</td>\n      <td>1</td>\n      <td>1</td>\n      <td>Mrs</td>\n      <td>Cumings</td>\n      <td>John Bradley (Florence Briggs Thayer)</td>\n      <td>Florence Briggs Thayer</td>\n      <td>female</td>\n      <td>38.0</td>\n      <td>1</td>\n      <td>0</td>\n      <td>PC 17599</td>\n      <td>71.2833</td>\n      <td>C85</td>\n      <td>C</td>\n    </tr>\n    <tr>\n      <th>2</th>\n      <td>3</td>\n      <td>1</td>\n      <td>3</td>\n      <td>Miss</td>\n      <td>Heikkinen</td>\n      <td>Laina</td>\n      <td>NaN</td>\n      <td>female</td>\n      <td>26.0</td>\n      <td>0</td>\n      <td>0</td>\n      <td>STON/O2. 3101282</td>\n      <td>7.9250</td>\n      <td>NaN</td>\n      <td>S</td>\n    </tr>\n    <tr>\n      <th>3</th>\n      <td>4</td>\n      <td>1</td>\n      <td>1</td>\n      <td>Mrs</td>\n      <td>Futrelle</td>\n      <td>Jacques Heath (Lily May Peel)</td>\n      <td>Lily May Peel</td>\n      <td>female</td>\n      <td>35.0</td>\n      <td>1</td>\n      <td>0</td>\n      <td>113803</td>\n      <td>53.1000</td>\n      <td>C123</td>\n      <td>S</td>\n    </tr>\n    <tr>\n      <th>4</th>\n      <td>5</td>\n      <td>0</td>\n      <td>3</td>\n      <td>Mr</td>\n      <td>Allen</td>\n      <td>William Henry</td>\n      <td>NaN</td>\n      <td>male</td>\n      <td>35.0</td>\n      <td>0</td>\n      <td>0</td>\n      <td>373450</td>\n      <td>8.0500</td>\n      <td>NaN</td>\n      <td>S</td>\n    </tr>\n    <tr>\n      <th>...</th>\n      <td>...</td>\n      <td>...</td>\n      <td>...</td>\n      <td>...</td>\n      <td>...</td>\n      <td>...</td>\n      <td>...</td>\n      <td>...</td>\n      <td>...</td>\n      <td>...</td>\n      <td>...</td>\n      <td>...</td>\n      <td>...</td>\n      <td>...</td>\n      <td>...</td>\n    </tr>\n    <tr>\n      <th>886</th>\n      <td>887</td>\n      <td>0</td>\n      <td>2</td>\n      <td>Rev</td>\n      <td>Montvila</td>\n      <td>Juozas</td>\n      <td>NaN</td>\n      <td>male</td>\n      <td>27.0</td>\n      <td>0</td>\n      <td>0</td>\n      <td>211536</td>\n      <td>13.0000</td>\n      <td>NaN</td>\n      <td>S</td>\n    </tr>\n    <tr>\n      <th>887</th>\n      <td>888</td>\n      <td>1</td>\n      <td>1</td>\n      <td>Miss</td>\n      <td>Graham</td>\n      <td>Margaret Edith</td>\n      <td>NaN</td>\n      <td>female</td>\n      <td>19.0</td>\n      <td>0</td>\n      <td>0</td>\n      <td>112053</td>\n      <td>30.0000</td>\n      <td>B42</td>\n      <td>S</td>\n    </tr>\n    <tr>\n      <th>888</th>\n      <td>889</td>\n      <td>0</td>\n      <td>3</td>\n      <td>Miss</td>\n      <td>Johnston</td>\n      <td>Catherine Helen \"Carrie\"</td>\n      <td>NaN</td>\n      <td>female</td>\n      <td>NaN</td>\n      <td>1</td>\n      <td>2</td>\n      <td>W./C. 6607</td>\n      <td>23.4500</td>\n      <td>NaN</td>\n      <td>S</td>\n    </tr>\n    <tr>\n      <th>889</th>\n      <td>890</td>\n      <td>1</td>\n      <td>1</td>\n      <td>Mr</td>\n      <td>Behr</td>\n      <td>Karl Howell</td>\n      <td>NaN</td>\n      <td>male</td>\n      <td>26.0</td>\n      <td>0</td>\n      <td>0</td>\n      <td>111369</td>\n      <td>30.0000</td>\n      <td>C148</td>\n      <td>C</td>\n    </tr>\n    <tr>\n      <th>890</th>\n      <td>891</td>\n      <td>0</td>\n      <td>3</td>\n      <td>Mr</td>\n      <td>Dooley</td>\n      <td>Patrick</td>\n      <td>NaN</td>\n      <td>male</td>\n      <td>32.0</td>\n      <td>0</td>\n      <td>0</td>\n      <td>370376</td>\n      <td>7.7500</td>\n      <td>NaN</td>\n      <td>Q</td>\n    </tr>\n  </tbody>\n</table>\n<p>891 rows × 15 columns</p>\n</div>"
     },
     "execution_count": 110,
     "metadata": {},
     "output_type": "execute_result"
    }
   ],
   "source": [
    "titanic_data\n"
   ],
   "metadata": {
    "collapsed": false,
    "ExecuteTime": {
     "end_time": "2024-02-09T11:20:28.414692800Z",
     "start_time": "2024-02-09T11:20:28.390266100Z"
    }
   },
   "id": "fcbc7385f7fa8ef1",
   "execution_count": 110
  },
  {
   "cell_type": "markdown",
   "source": [
    "### 3.5 Summe der einzelnen Titel."
   ],
   "metadata": {
    "collapsed": false
   },
   "id": "26cc1b1d055cc4ea"
  },
  {
   "cell_type": "code",
   "execution_count": 111,
   "outputs": [
    {
     "name": "stdout",
     "output_type": "stream",
     "text": [
      "Address\n",
      "Mr              517\n",
      "Miss            182\n",
      "Mrs             125\n",
      "Master           40\n",
      "Dr                7\n",
      "Rev               6\n",
      "Mlle              2\n",
      "Major             2\n",
      "Col               2\n",
      "the Countess      1\n",
      "Capt              1\n",
      "Ms                1\n",
      "Sir               1\n",
      "Lady              1\n",
      "Mme               1\n",
      "Don               1\n",
      "Jonkheer          1\n",
      "Name: count, dtype: int64\n"
     ]
    }
   ],
   "source": [
    "address_counts = titanic_data['Address'].value_counts()\n",
    "print(address_counts)"
   ],
   "metadata": {
    "collapsed": false,
    "ExecuteTime": {
     "end_time": "2024-02-09T11:21:27.403720400Z",
     "start_time": "2024-02-09T11:21:27.397707600Z"
    }
   },
   "id": "78c3adae6a1cae7e"
  },
  {
   "cell_type": "markdown",
   "source": [
    "# 4. Datenanalyse"
   ],
   "metadata": {
    "collapsed": false
   },
   "id": "61a8e7c8e11c225d"
  },
  {
   "cell_type": "markdown",
   "source": [
    "## 4.1 Überlebensrate insgesamt\n"
   ],
   "metadata": {
    "collapsed": false
   },
   "id": "7d3361e24742c390"
  },
  {
   "cell_type": "code",
   "execution_count": 118,
   "outputs": [
    {
     "name": "stdout",
     "output_type": "stream",
     "text": [
      "Die Überlebensrate beträgt: 0.38\n"
     ]
    }
   ],
   "source": [
    "survival_rate = titanic_data['Survived'].mean()\n",
    "print(f\"Die Überlebensrate beträgt: {survival_rate:.2f}\")\n",
    "\n",
    "# Diagramm für Überlebende (Anteil Überlebende und Tote)"
   ],
   "metadata": {
    "collapsed": false,
    "ExecuteTime": {
     "end_time": "2024-02-09T11:24:11.062680300Z",
     "start_time": "2024-02-09T11:24:11.053005500Z"
    }
   },
   "id": "ce976f278213586b"
  },
  {
   "cell_type": "markdown",
   "source": [
    "## 4.1 Gruppierung und Analyse nach Pclass "
   ],
   "metadata": {
    "collapsed": false
   },
   "id": "23fda4e753862348"
  },
  {
   "cell_type": "code",
   "execution_count": 119,
   "outputs": [
    {
     "name": "stdout",
     "output_type": "stream",
     "text": [
      "Überlebensrate nach Passagierklasse:\n",
      "Pclass\n",
      "1    0.629630\n",
      "2    0.472826\n",
      "3    0.242363\n",
      "Name: Survived, dtype: float64\n"
     ]
    }
   ],
   "source": [
    "pclass_survival = titanic_data.groupby('Pclass')['Survived'].mean()\n"
   ],
   "metadata": {
    "collapsed": false,
    "ExecuteTime": {
     "end_time": "2024-02-09T12:20:28.607966100Z",
     "start_time": "2024-02-09T12:20:28.595914900Z"
    }
   },
   "id": "b3c4444b9dbdd15a"
  },
  {
   "cell_type": "code",
   "execution_count": 122,
   "outputs": [
    {
     "name": "stdout",
     "output_type": "stream",
     "text": [
      "Überlebensrate nach Passagierklasse:\n",
      "Pclass\n",
      "1    0.629630\n",
      "2    0.472826\n",
      "3    0.242363\n",
      "Name: Survived, dtype: float64\n"
     ]
    },
    {
     "data": {
      "text/plain": "<Figure size 640x480 with 1 Axes>",
      "image/png": "[encoded data removed]"
     },
     "metadata": {},
     "output_type": "display_data"
    }
   ],
   "source": [
    "survival_by_class = titanic_data.groupby('Pclass')['Survived'].mean()\n",
    "survival_by_class.plot(kind='pie', \n",
    "                       title='Überlebensrate nach Klasse',\n",
    "                       explode=(0,0,0.3),\n",
    "                       autopct='%1.1f%%',\n",
    "                       startangle=30,\n",
    "                       cmap='Set2',\n",
    "                       ylabel='');\n",
    "\n",
    "#plt.xlabel('Klasse')\n",
    "#plt.ylabel('Überlebensrate')\n",
    "#plt.show()\n",
    "\n",
    "print(f\"Überlebensrate nach Passagierklasse:\\n{pclass_survival}\")"
   ],
   "metadata": {
    "collapsed": false,
    "ExecuteTime": {
     "end_time": "2024-02-09T12:23:07.635520100Z",
     "start_time": "2024-02-09T12:23:07.511553700Z"
    }
   },
   "id": "43336542fcb7424c"
  },
  {
   "cell_type": "markdown",
   "source": [
    "## 4.2 Überlebensrate nach Geschlecht"
   ],
   "metadata": {
    "collapsed": false
   },
   "id": "21f8f59d70becccd"
  },
  {
   "cell_type": "code",
   "execution_count": 14,
   "outputs": [
    {
     "data": {
      "text/plain": "<Figure size 640x480 with 1 Axes>",
      "image/png": "[encoded data removed]"
     },
     "metadata": {},
     "output_type": "display_data"
    }
   ],
   "source": [
    "survival_by_gender = titanic_data.groupby('Sex')['Survived'].mean()\n",
    "survival_by_gender.plot(kind='pie', \n",
    "                        title='Überlebensrate nach Geschlecht',\n",
    "                        explode=(0,0),\n",
    "                        autopct='%1.1f%%',\n",
    "                        startangle=30,\n",
    "                        cmap='Set2',\n",
    "                        ylabel='');\n",
    "\n",
    "#plt.xlabel('Geschlecht')\n",
    "#plt.ylabel('Überlebensrate')\n",
    "#plt.show() "
   ],
   "metadata": {
    "collapsed": false,
    "ExecuteTime": {
     "end_time": "2024-02-09T10:58:21.882848200Z",
     "start_time": "2024-02-09T10:58:19.831452800Z"
    }
   },
   "id": "f00c1a822f337866"
  },
  {
   "cell_type": "markdown",
   "source": [
    "## 4.3 Altersverteilung analysieren"
   ],
   "metadata": {
    "collapsed": false
   },
   "id": "7a30d389aaec38d0"
  },
  {
   "cell_type": "code",
   "execution_count": 121,
   "outputs": [
    {
     "data": {
      "text/plain": "<Figure size 640x480 with 1 Axes>",
      "image/png": "[encoded data removed]"
     },
     "metadata": {},
     "output_type": "display_data"
    }
   ],
   "source": [
    "titanic_data['Age'].plot(kind='hist',\n",
    "                         bins=20,\n",
    "                         title='Altersverteilung der Passagiere',\n",
    "                         xlabel='Alter',\n",
    "                         width=3,\n",
    "                         ylabel='Anzahl');\n",
    "\n",
    "#plt.xlabel('Alter')\n",
    "#plt.ylabel('Häufigkeit')\n",
    "#plt.show()"
   ],
   "metadata": {
    "collapsed": false,
    "ExecuteTime": {
     "end_time": "2024-02-09T12:21:51.557564500Z",
     "start_time": "2024-02-09T12:21:51.326064300Z"
    }
   },
   "id": "1622006b649e5ba0"
  },
  {
   "cell_type": "markdown",
   "source": [
    "## 4.4 Überlebensrate von verheirateten und unverheirateten Frauen"
   ],
   "metadata": {
    "collapsed": false
   },
   "id": "8add358e1b631228"
  },
  {
   "cell_type": "code",
   "execution_count": 120,
   "outputs": [
    {
     "data": {
      "text/plain": "<Axes: title={'center': 'Überlebensrate nach Verheiratete'}>"
     },
     "execution_count": 120,
     "metadata": {},
     "output_type": "execute_result"
    },
    {
     "data": {
      "text/plain": "<Figure size 640x480 with 1 Axes>",
      "image/png": "[encoded data removed]"
     },
     "metadata": {},
     "output_type": "display_data"
    }
   ],
   "source": [
    "titanic_data['Married'] = titanic_data['Address'].str.contains('Mrs', case=False)\n",
    "survival_by_married = titanic_data.groupby('Married')['Survived'].mean()\n",
    "\n",
    "survival_by_married.plot(kind='pie', \n",
    "                         title='Überlebensrate nach Verheiratete',\n",
    "                         explode=(0,0),\n",
    "                         autopct='%1.1f%%',\n",
    "                         startangle=10,\n",
    "                         cmap='Set2',\n",
    "                         ylabel='')\n",
    "                         \n",
    "#plt.xlabel('Verheiratet')\n",
    "#plt.ylabel('Überlebensrate')\n",
    "#plt.xticks([0, 1], ['Unverheiratet', 'Verheiratet'])\n",
    "#plt.show()"
   ],
   "metadata": {
    "collapsed": false,
    "ExecuteTime": {
     "end_time": "2024-02-09T12:21:44.914339400Z",
     "start_time": "2024-02-09T12:21:44.804617Z"
    }
   },
   "id": "60c042686487e7f2"
  },
  {
   "cell_type": "markdown",
   "source": [
    "## 4.5 Überlebensrate von Passagieren mit Geschwistern/Ehepartnern an Bord"
   ],
   "metadata": {
    "collapsed": false
   },
   "id": "4359b13e3b33ab6"
  },
  {
   "cell_type": "code",
   "execution_count": null,
   "outputs": [],
   "source": [
    "ueberlebensrate_mit_geschwistern_ehepartner = titanic_data.groupby('SibSp')['Survived'].mean()\n",
    "ueberlebensrate_mit_geschwistern_ehepartner.plot(kind='bar', \n",
    "                                                title='Überlebensrate mit Geschwistern/Ehepartner')\n",
    "\n",
    "plt.xlabel('Anzahl der Geschwister/Ehepartner')\n",
    "plt.ylabel('Überlebensrate')\n",
    "plt.show()"
   ],
   "metadata": {
    "collapsed": false,
    "ExecuteTime": {
     "start_time": "2024-02-09T10:58:26.125625200Z"
    }
   },
   "id": "64091ce2b4a45b50"
  },
  {
   "cell_type": "markdown",
   "source": [
    "## 4.6 Unterschiede in der Sterblichkeit von Kindern je nach Alter"
   ],
   "metadata": {
    "collapsed": false
   },
   "id": "8b92db7caebb92d4"
  },
  {
   "cell_type": "code",
   "execution_count": null,
   "outputs": [],
   "source": [
    "children = titanic_data[titanic_data['Age'] < 18]\n",
    "children_survival_by_age = children.groupby('Age')['Survived'].mean()\n",
    "children_survival_by_age.plot(kind='bar', \n",
    "                              title='Überlebensrate von Kindern nach Alter')\n",
    "plt.xlabel('Alter')\n",
    "plt.ylabel('Überlebensrate')\n",
    "plt.show()"
   ],
   "metadata": {
    "collapsed": false,
    "ExecuteTime": {
     "start_time": "2024-02-09T10:58:26.133186800Z"
    }
   },
   "id": "3c2e874a6188d8a3"
  },
  {
   "cell_type": "markdown",
   "source": [
    "## 4.7 Analyse der Rollen von Geschwistern, Ehepartnern, Eltern und Kindern"
   ],
   "metadata": {
    "collapsed": false
   },
   "id": "5f03430e64aca4ea"
  },
  {
   "cell_type": "code",
   "execution_count": null,
   "outputs": [],
   "source": [
    "siblings_count = titanic_data['SibSp'].sum()\n",
    "parents_children_count = titanic_data['Parch'].sum()\n",
    "\n",
    "print(f\"Gesamtanzahl an Geschwistern/Ehepartnern an Bord: {siblings_count}\")\n",
    "print(f\"Gesamtanzahl an Eltern/Kindern an Bord: {parents_children_count}\")"
   ],
   "metadata": {
    "collapsed": false,
    "ExecuteTime": {
     "start_time": "2024-02-09T10:58:26.139676200Z"
    }
   },
   "id": "d1b5c022153f75e3"
  },
  {
   "cell_type": "code",
   "execution_count": null,
   "outputs": [],
   "source": [
    "survival_with_siblings_spouse = titanic_data.groupby('SibSp')['Survived'].mean()\n",
    "survival_with_siblings_spouse.plot(kind='pie', \n",
    "                                   title='Überlebensrate mit Geschwistern/Ehepartner')\n",
    "\n",
    "plt.xlabel('Anzahl der Geschwister/Ehepartner')\n",
    "plt.ylabel('Überlebensrat')\n",
    "plt.show()"
   ],
   "metadata": {
    "collapsed": false,
    "ExecuteTime": {
     "start_time": "2024-02-09T10:58:26.145671300Z"
    }
   },
   "id": "630a0b0ce41508ce"
  },
  {
   "cell_type": "markdown",
   "source": [
    "## 4.9 Analyse der Kabinennummern"
   ],
   "metadata": {
    "collapsed": false
   },
   "id": "60317127a281158d"
  },
  {
   "cell_type": "code",
   "execution_count": null,
   "outputs": [],
   "source": [
    "cabin_data = titanic_data['Cabin']\n",
    "cabin_data"
   ],
   "metadata": {
    "collapsed": false,
    "ExecuteTime": {
     "start_time": "2024-02-09T10:58:26.149177800Z"
    }
   },
   "id": "b070862cc50635d9"
  },
  {
   "cell_type": "code",
   "execution_count": null,
   "outputs": [],
   "source": [
    "cabin_survival = titanic_data.groupby('Cabin')['Survived'].mean().dropna()\n",
    "cabin_survival.plot(kind='scatter',\n",
    "                    x=cabin_survival.index,\n",
    "                    y=cabin_survival['Survived'],\n",
    "                    title='Überlebensrate nach Kabine')\n",
    "plt.xlabel('Kabine')\n",
    "plt.ylabel('Überlebensrate')\n",
    "plt.show()"
   ],
   "metadata": {
    "collapsed": false,
    "ExecuteTime": {
     "start_time": "2024-02-09T10:58:26.153336300Z"
    }
   },
   "id": "a7ef4d0a3eb73b19"
  }
 ],
 "metadata": {
  "kernelspec": {
   "display_name": "Python 3",
   "language": "python",
   "name": "python3"
  },
  "language_info": {
   "codemirror_mode": {
    "name": "ipython",
    "version": 2
   },
   "file_extension": ".py",
   "mimetype": "text/x-python",
   "name": "python",
   "nbconvert_exporter": "python",
   "pygments_lexer": "ipython2",
   "version": "2.7.6"
  }
 },
 "nbformat": 4,
 "nbformat_minor": 5
}
