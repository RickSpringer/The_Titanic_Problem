{
 "cells": [
  {
   "cell_type": "markdown",
   "source": [
    "# The Titanic Problem - An explorative Data Analysis\n",
    "# 1. Introduction\n",
    "## 1.1 Imports"
   ],
   "metadata": {
    "collapsed": false
   },
   "id": "54bda5ee7c58ed4d"
  },
  {
   "cell_type": "code",
   "source": [
    "import matplotlib.pyplot as plt\n",
    "import pandas as pd\n",
    "import seaborn as sns"
   ],
   "metadata": {
    "collapsed": false,
    "ExecuteTime": {
     "end_time": "2024-04-18T12:54:21.555355Z",
     "start_time": "2024-04-18T12:54:21.550351Z"
    }
   },
   "id": "61c09df90fddf657",
   "outputs": [],
   "execution_count": 1
  },
  {
   "metadata": {
    "ExecuteTime": {
     "end_time": "2024-04-18T12:54:35.953349Z",
     "start_time": "2024-04-18T12:54:35.911439Z"
    }
   },
   "cell_type": "code",
   "source": [
    "titanic_data = pd.read_csv('titanic.csv')\n",
    "titanic_data"
   ],
   "id": "2b5e26b714c289b1",
   "outputs": [
    {
     "data": {
      "text/plain": [
       "     PassengerId  Survived  Pclass  \\\n",
       "0              1         0       3   \n",
       "1              2         1       1   \n",
       "2              3         1       3   \n",
       "3              4         1       1   \n",
       "4              5         0       3   \n",
       "..           ...       ...     ...   \n",
       "886          887         0       2   \n",
       "887          888         1       1   \n",
       "888          889         0       3   \n",
       "889          890         1       1   \n",
       "890          891         0       3   \n",
       "\n",
       "                                                  Name     Sex   Age  SibSp  \\\n",
       "0                              Braund, Mr. Owen Harris    male  22.0      1   \n",
       "1    Cumings, Mrs. John Bradley (Florence Briggs Th...  female  38.0      1   \n",
       "2                               Heikkinen, Miss. Laina  female  26.0      0   \n",
       "3         Futrelle, Mrs. Jacques Heath (Lily May Peel)  female  35.0      1   \n",
       "4                             Allen, Mr. William Henry    male  35.0      0   \n",
       "..                                                 ...     ...   ...    ...   \n",
       "886                              Montvila, Rev. Juozas    male  27.0      0   \n",
       "887                       Graham, Miss. Margaret Edith  female  19.0      0   \n",
       "888           Johnston, Miss. Catherine Helen \"Carrie\"  female   NaN      1   \n",
       "889                              Behr, Mr. Karl Howell    male  26.0      0   \n",
       "890                                Dooley, Mr. Patrick    male  32.0      0   \n",
       "\n",
       "     Parch            Ticket     Fare Cabin Embarked  \n",
       "0        0         A/5 21171   7.2500   NaN        S  \n",
       "1        0          PC 17599  71.2833   C85        C  \n",
       "2        0  STON/O2. 3101282   7.9250   NaN        S  \n",
       "3        0            113803  53.1000  C123        S  \n",
       "4        0            373450   8.0500   NaN        S  \n",
       "..     ...               ...      ...   ...      ...  \n",
       "886      0            211536  13.0000   NaN        S  \n",
       "887      0            112053  30.0000   B42        S  \n",
       "888      2        W./C. 6607  23.4500   NaN        S  \n",
       "889      0            111369  30.0000  C148        C  \n",
       "890      0            370376   7.7500   NaN        Q  \n",
       "\n",
       "[891 rows x 12 columns]"
      ],
      "text/html": [
       "<div>\n",
       "<style scoped>\n",
       "    .dataframe tbody tr th:only-of-type {\n",
       "        vertical-align: middle;\n",
       "    }\n",
       "\n",
       "    .dataframe tbody tr th {\n",
       "        vertical-align: top;\n",
       "    }\n",
       "\n",
       "    .dataframe thead th {\n",
       "        text-align: right;\n",
       "    }\n",
       "</style>\n",
       "<table border=\"1\" class=\"dataframe\">\n",
       "  <thead>\n",
       "    <tr style=\"text-align: right;\">\n",
       "      <th></th>\n",
       "      <th>PassengerId</th>\n",
       "      <th>Survived</th>\n",
       "      <th>Pclass</th>\n",
       "      <th>Name</th>\n",
       "      <th>Sex</th>\n",
       "      <th>Age</th>\n",
       "      <th>SibSp</th>\n",
       "      <th>Parch</th>\n",
       "      <th>Ticket</th>\n",
       "      <th>Fare</th>\n",
       "      <th>Cabin</th>\n",
       "      <th>Embarked</th>\n",
       "    </tr>\n",
       "  </thead>\n",
       "  <tbody>\n",
       "    <tr>\n",
       "      <th>0</th>\n",
       "      <td>1</td>\n",
       "      <td>0</td>\n",
       "      <td>3</td>\n",
       "      <td>Braund, Mr. Owen Harris</td>\n",
       "      <td>male</td>\n",
       "      <td>22.0</td>\n",
       "      <td>1</td>\n",
       "      <td>0</td>\n",
       "      <td>A/5 21171</td>\n",
       "      <td>7.2500</td>\n",
       "      <td>NaN</td>\n",
       "      <td>S</td>\n",
       "    </tr>\n",
       "    <tr>\n",
       "      <th>1</th>\n",
       "      <td>2</td>\n",
       "      <td>1</td>\n",
       "      <td>1</td>\n",
       "      <td>Cumings, Mrs. John Bradley (Florence Briggs Th...</td>\n",
       "      <td>female</td>\n",
       "      <td>38.0</td>\n",
       "      <td>1</td>\n",
       "      <td>0</td>\n",
       "      <td>PC 17599</td>\n",
       "      <td>71.2833</td>\n",
       "      <td>C85</td>\n",
       "      <td>C</td>\n",
       "    </tr>\n",
       "    <tr>\n",
       "      <th>2</th>\n",
       "      <td>3</td>\n",
       "      <td>1</td>\n",
       "      <td>3</td>\n",
       "      <td>Heikkinen, Miss. Laina</td>\n",
       "      <td>female</td>\n",
       "      <td>26.0</td>\n",
       "      <td>0</td>\n",
       "      <td>0</td>\n",
       "      <td>STON/O2. 3101282</td>\n",
       "      <td>7.9250</td>\n",
       "      <td>NaN</td>\n",
       "      <td>S</td>\n",
       "    </tr>\n",
       "    <tr>\n",
       "      <th>3</th>\n",
       "      <td>4</td>\n",
       "      <td>1</td>\n",
       "      <td>1</td>\n",
       "      <td>Futrelle, Mrs. Jacques Heath (Lily May Peel)</td>\n",
       "      <td>female</td>\n",
       "      <td>35.0</td>\n",
       "      <td>1</td>\n",
       "      <td>0</td>\n",
       "      <td>113803</td>\n",
       "      <td>53.1000</td>\n",
       "      <td>C123</td>\n",
       "      <td>S</td>\n",
       "    </tr>\n",
       "    <tr>\n",
       "      <th>4</th>\n",
       "      <td>5</td>\n",
       "      <td>0</td>\n",
       "      <td>3</td>\n",
       "      <td>Allen, Mr. William Henry</td>\n",
       "      <td>male</td>\n",
       "      <td>35.0</td>\n",
       "      <td>0</td>\n",
       "      <td>0</td>\n",
       "      <td>373450</td>\n",
       "      <td>8.0500</td>\n",
       "      <td>NaN</td>\n",
       "      <td>S</td>\n",
       "    </tr>\n",
       "    <tr>\n",
       "      <th>...</th>\n",
       "      <td>...</td>\n",
       "      <td>...</td>\n",
       "      <td>...</td>\n",
       "      <td>...</td>\n",
       "      <td>...</td>\n",
       "      <td>...</td>\n",
       "      <td>...</td>\n",
       "      <td>...</td>\n",
       "      <td>...</td>\n",
       "      <td>...</td>\n",
       "      <td>...</td>\n",
       "      <td>...</td>\n",
       "    </tr>\n",
       "    <tr>\n",
       "      <th>886</th>\n",
       "      <td>887</td>\n",
       "      <td>0</td>\n",
       "      <td>2</td>\n",
       "      <td>Montvila, Rev. Juozas</td>\n",
       "      <td>male</td>\n",
       "      <td>27.0</td>\n",
       "      <td>0</td>\n",
       "      <td>0</td>\n",
       "      <td>211536</td>\n",
       "      <td>13.0000</td>\n",
       "      <td>NaN</td>\n",
       "      <td>S</td>\n",
       "    </tr>\n",
       "    <tr>\n",
       "      <th>887</th>\n",
       "      <td>888</td>\n",
       "      <td>1</td>\n",
       "      <td>1</td>\n",
       "      <td>Graham, Miss. Margaret Edith</td>\n",
       "      <td>female</td>\n",
       "      <td>19.0</td>\n",
       "      <td>0</td>\n",
       "      <td>0</td>\n",
       "      <td>112053</td>\n",
       "      <td>30.0000</td>\n",
       "      <td>B42</td>\n",
       "      <td>S</td>\n",
       "    </tr>\n",
       "    <tr>\n",
       "      <th>888</th>\n",
       "      <td>889</td>\n",
       "      <td>0</td>\n",
       "      <td>3</td>\n",
       "      <td>Johnston, Miss. Catherine Helen \"Carrie\"</td>\n",
       "      <td>female</td>\n",
       "      <td>NaN</td>\n",
       "      <td>1</td>\n",
       "      <td>2</td>\n",
       "      <td>W./C. 6607</td>\n",
       "      <td>23.4500</td>\n",
       "      <td>NaN</td>\n",
       "      <td>S</td>\n",
       "    </tr>\n",
       "    <tr>\n",
       "      <th>889</th>\n",
       "      <td>890</td>\n",
       "      <td>1</td>\n",
       "      <td>1</td>\n",
       "      <td>Behr, Mr. Karl Howell</td>\n",
       "      <td>male</td>\n",
       "      <td>26.0</td>\n",
       "      <td>0</td>\n",
       "      <td>0</td>\n",
       "      <td>111369</td>\n",
       "      <td>30.0000</td>\n",
       "      <td>C148</td>\n",
       "      <td>C</td>\n",
       "    </tr>\n",
       "    <tr>\n",
       "      <th>890</th>\n",
       "      <td>891</td>\n",
       "      <td>0</td>\n",
       "      <td>3</td>\n",
       "      <td>Dooley, Mr. Patrick</td>\n",
       "      <td>male</td>\n",
       "      <td>32.0</td>\n",
       "      <td>0</td>\n",
       "      <td>0</td>\n",
       "      <td>370376</td>\n",
       "      <td>7.7500</td>\n",
       "      <td>NaN</td>\n",
       "      <td>Q</td>\n",
       "    </tr>\n",
       "  </tbody>\n",
       "</table>\n",
       "<p>891 rows × 12 columns</p>\n",
       "</div>"
      ]
     },
     "execution_count": 3,
     "metadata": {},
     "output_type": "execute_result"
    }
   ],
   "execution_count": 3
  },
  {
   "cell_type": "markdown",
   "source": "## 1.2 Checking for data types in dataset",
   "metadata": {
    "collapsed": false
   },
   "id": "cf99a6cfa927de4e"
  },
  {
   "cell_type": "code",
   "source": [
    "# In welchen Formaten liegen die Daten vor?\n",
    "titanic_data.dtypes"
   ],
   "metadata": {
    "collapsed": false,
    "ExecuteTime": {
     "end_time": "2024-04-18T08:46:00.799606Z",
     "start_time": "2024-04-18T08:46:00.787440Z"
    }
   },
   "id": "3f041cd91a3b4686",
   "outputs": [
    {
     "data": {
      "text/plain": [
       "PassengerId      int64\n",
       "Survived         int64\n",
       "Pclass           int64\n",
       "Name            object\n",
       "Sex             object\n",
       "Age            float64\n",
       "SibSp            int64\n",
       "Parch            int64\n",
       "Ticket          object\n",
       "Fare           float64\n",
       "Cabin           object\n",
       "Embarked        object\n",
       "dtype: object"
      ]
     },
     "execution_count": 2,
     "metadata": {},
     "output_type": "execute_result"
    }
   ],
   "execution_count": 2
  },
  {
   "cell_type": "markdown",
   "source": "## 1.3 Description of numeric & literal data",
   "metadata": {
    "collapsed": false
   },
   "id": "6decac0b36e47806"
  },
  {
   "cell_type": "code",
   "source": [
    "# Describing numeric data\n",
    "titanic_data.describe()"
   ],
   "metadata": {
    "collapsed": false,
    "ExecuteTime": {
     "end_time": "2024-04-18T08:46:00.988464Z",
     "start_time": "2024-04-18T08:46:00.945331Z"
    }
   },
   "id": "1446baa325d4d958",
   "outputs": [
    {
     "data": {
      "text/plain": [
       "       PassengerId    Survived      Pclass         Age       SibSp  \\\n",
       "count   891.000000  891.000000  891.000000  714.000000  891.000000   \n",
       "mean    446.000000    0.383838    2.308642   29.699118    0.523008   \n",
       "std     257.353842    0.486592    0.836071   14.526497    1.102743   \n",
       "min       1.000000    0.000000    1.000000    0.420000    0.000000   \n",
       "25%     223.500000    0.000000    2.000000   20.125000    0.000000   \n",
       "50%     446.000000    0.000000    3.000000   28.000000    0.000000   \n",
       "75%     668.500000    1.000000    3.000000   38.000000    1.000000   \n",
       "max     891.000000    1.000000    3.000000   80.000000    8.000000   \n",
       "\n",
       "            Parch        Fare  \n",
       "count  891.000000  891.000000  \n",
       "mean     0.381594   32.204208  \n",
       "std      0.806057   49.693429  \n",
       "min      0.000000    0.000000  \n",
       "25%      0.000000    7.910400  \n",
       "50%      0.000000   14.454200  \n",
       "75%      0.000000   31.000000  \n",
       "max      6.000000  512.329200  "
      ],
      "text/html": [
       "<div>\n",
       "<style scoped>\n",
       "    .dataframe tbody tr th:only-of-type {\n",
       "        vertical-align: middle;\n",
       "    }\n",
       "\n",
       "    .dataframe tbody tr th {\n",
       "        vertical-align: top;\n",
       "    }\n",
       "\n",
       "    .dataframe thead th {\n",
       "        text-align: right;\n",
       "    }\n",
       "</style>\n",
       "<table border=\"1\" class=\"dataframe\">\n",
       "  <thead>\n",
       "    <tr style=\"text-align: right;\">\n",
       "      <th></th>\n",
       "      <th>PassengerId</th>\n",
       "      <th>Survived</th>\n",
       "      <th>Pclass</th>\n",
       "      <th>Age</th>\n",
       "      <th>SibSp</th>\n",
       "      <th>Parch</th>\n",
       "      <th>Fare</th>\n",
       "    </tr>\n",
       "  </thead>\n",
       "  <tbody>\n",
       "    <tr>\n",
       "      <th>count</th>\n",
       "      <td>891.000000</td>\n",
       "      <td>891.000000</td>\n",
       "      <td>891.000000</td>\n",
       "      <td>714.000000</td>\n",
       "      <td>891.000000</td>\n",
       "      <td>891.000000</td>\n",
       "      <td>891.000000</td>\n",
       "    </tr>\n",
       "    <tr>\n",
       "      <th>mean</th>\n",
       "      <td>446.000000</td>\n",
       "      <td>0.383838</td>\n",
       "      <td>2.308642</td>\n",
       "      <td>29.699118</td>\n",
       "      <td>0.523008</td>\n",
       "      <td>0.381594</td>\n",
       "      <td>32.204208</td>\n",
       "    </tr>\n",
       "    <tr>\n",
       "      <th>std</th>\n",
       "      <td>257.353842</td>\n",
       "      <td>0.486592</td>\n",
       "      <td>0.836071</td>\n",
       "      <td>14.526497</td>\n",
       "      <td>1.102743</td>\n",
       "      <td>0.806057</td>\n",
       "      <td>49.693429</td>\n",
       "    </tr>\n",
       "    <tr>\n",
       "      <th>min</th>\n",
       "      <td>1.000000</td>\n",
       "      <td>0.000000</td>\n",
       "      <td>1.000000</td>\n",
       "      <td>0.420000</td>\n",
       "      <td>0.000000</td>\n",
       "      <td>0.000000</td>\n",
       "      <td>0.000000</td>\n",
       "    </tr>\n",
       "    <tr>\n",
       "      <th>25%</th>\n",
       "      <td>223.500000</td>\n",
       "      <td>0.000000</td>\n",
       "      <td>2.000000</td>\n",
       "      <td>20.125000</td>\n",
       "      <td>0.000000</td>\n",
       "      <td>0.000000</td>\n",
       "      <td>7.910400</td>\n",
       "    </tr>\n",
       "    <tr>\n",
       "      <th>50%</th>\n",
       "      <td>446.000000</td>\n",
       "      <td>0.000000</td>\n",
       "      <td>3.000000</td>\n",
       "      <td>28.000000</td>\n",
       "      <td>0.000000</td>\n",
       "      <td>0.000000</td>\n",
       "      <td>14.454200</td>\n",
       "    </tr>\n",
       "    <tr>\n",
       "      <th>75%</th>\n",
       "      <td>668.500000</td>\n",
       "      <td>1.000000</td>\n",
       "      <td>3.000000</td>\n",
       "      <td>38.000000</td>\n",
       "      <td>1.000000</td>\n",
       "      <td>0.000000</td>\n",
       "      <td>31.000000</td>\n",
       "    </tr>\n",
       "    <tr>\n",
       "      <th>max</th>\n",
       "      <td>891.000000</td>\n",
       "      <td>1.000000</td>\n",
       "      <td>3.000000</td>\n",
       "      <td>80.000000</td>\n",
       "      <td>8.000000</td>\n",
       "      <td>6.000000</td>\n",
       "      <td>512.329200</td>\n",
       "    </tr>\n",
       "  </tbody>\n",
       "</table>\n",
       "</div>"
      ]
     },
     "execution_count": 3,
     "metadata": {},
     "output_type": "execute_result"
    }
   ],
   "execution_count": 3
  },
  {
   "cell_type": "code",
   "source": [
    "# Checking number of different literal values in columns:\n",
    "titanic_data.describe(include='O')"
   ],
   "metadata": {
    "collapsed": false,
    "ExecuteTime": {
     "end_time": "2024-04-18T08:46:01.214581Z",
     "start_time": "2024-04-18T08:46:01.186797Z"
    }
   },
   "id": "a31b5ed88ddf5777",
   "outputs": [
    {
     "data": {
      "text/plain": [
       "                           Name   Sex  Ticket    Cabin Embarked\n",
       "count                       891   891     891      204      889\n",
       "unique                      891     2     681      147        3\n",
       "top     Braund, Mr. Owen Harris  male  347082  B96 B98        S\n",
       "freq                          1   577       7        4      644"
      ],
      "text/html": [
       "<div>\n",
       "<style scoped>\n",
       "    .dataframe tbody tr th:only-of-type {\n",
       "        vertical-align: middle;\n",
       "    }\n",
       "\n",
       "    .dataframe tbody tr th {\n",
       "        vertical-align: top;\n",
       "    }\n",
       "\n",
       "    .dataframe thead th {\n",
       "        text-align: right;\n",
       "    }\n",
       "</style>\n",
       "<table border=\"1\" class=\"dataframe\">\n",
       "  <thead>\n",
       "    <tr style=\"text-align: right;\">\n",
       "      <th></th>\n",
       "      <th>Name</th>\n",
       "      <th>Sex</th>\n",
       "      <th>Ticket</th>\n",
       "      <th>Cabin</th>\n",
       "      <th>Embarked</th>\n",
       "    </tr>\n",
       "  </thead>\n",
       "  <tbody>\n",
       "    <tr>\n",
       "      <th>count</th>\n",
       "      <td>891</td>\n",
       "      <td>891</td>\n",
       "      <td>891</td>\n",
       "      <td>204</td>\n",
       "      <td>889</td>\n",
       "    </tr>\n",
       "    <tr>\n",
       "      <th>unique</th>\n",
       "      <td>891</td>\n",
       "      <td>2</td>\n",
       "      <td>681</td>\n",
       "      <td>147</td>\n",
       "      <td>3</td>\n",
       "    </tr>\n",
       "    <tr>\n",
       "      <th>top</th>\n",
       "      <td>Braund, Mr. Owen Harris</td>\n",
       "      <td>male</td>\n",
       "      <td>347082</td>\n",
       "      <td>B96 B98</td>\n",
       "      <td>S</td>\n",
       "    </tr>\n",
       "    <tr>\n",
       "      <th>freq</th>\n",
       "      <td>1</td>\n",
       "      <td>577</td>\n",
       "      <td>7</td>\n",
       "      <td>4</td>\n",
       "      <td>644</td>\n",
       "    </tr>\n",
       "  </tbody>\n",
       "</table>\n",
       "</div>"
      ]
     },
     "execution_count": 4,
     "metadata": {},
     "output_type": "execute_result"
    }
   ],
   "execution_count": 4
  },
  {
   "cell_type": "code",
   "source": [
    "# Search for missing data:\n",
    "titanic_data.isnull().sum()"
   ],
   "metadata": {
    "collapsed": false,
    "ExecuteTime": {
     "end_time": "2024-04-18T08:46:01.407016Z",
     "start_time": "2024-04-18T08:46:01.395698Z"
    }
   },
   "id": "492fcb64cad48327",
   "outputs": [
    {
     "data": {
      "text/plain": [
       "PassengerId      0\n",
       "Survived         0\n",
       "Pclass           0\n",
       "Name             0\n",
       "Sex              0\n",
       "Age            177\n",
       "SibSp            0\n",
       "Parch            0\n",
       "Ticket           0\n",
       "Fare             0\n",
       "Cabin          687\n",
       "Embarked         2\n",
       "dtype: int64"
      ]
     },
     "execution_count": 5,
     "metadata": {},
     "output_type": "execute_result"
    }
   ],
   "execution_count": 5
  },
  {
   "cell_type": "markdown",
   "source": [
    "# 2 Data collection & observations\n",
    "The dataset consists of *12 columns* and *891 rows* with information on 891 Titanic passengers. A brief overview of the columns and the information stored is given below. (Please consult the README file for more detailed information of the code. All headers and items in this notebook correspond to a respective counterpart in the README documentation).\n",
    "\n",
    "**1. 'PassengerId'** Contains the PassengerId as an integer. The stored numbers represent the IDs of each passanger and range from 1 to 891.\n",
    "\n",
    "**2. 'Survived'** Contains the survival status as an integer. 0 = did not survive. 1 = has survived.\n",
    "\n",
    "**3. 'Pclass'** Contains the passenger class as an integer. The numbers of the different classes range from 1 to 3.  \n",
    "\n",
    "**4. 'Name'** Contains the salutation, the surname, first name and, if applicable, maiden name, i. e. 'Cumings, Mrs. John Bradley (Florence Briggs Th...'.\n",
    "\n",
    "**5. 'Sex'** Contains the gender as a string (either 'female' or 'male').\n",
    "\n",
    "**6. 'Age'** Contains the age of the passenger in years as a float with 1 decimal place. These values are calculated, so the smallest age in this dataset is 0.42 and the largest is 80.0.\n",
    "\n",
    "**7. 'SibSp'** Contains the number of the accompanying siblings and/or spouses as an integer. The value ranges from 0 to 8.\n",
    "\n",
    "**8. 'Parch'** Contains the number of accompanying parents and/or children as an integer. The value ranges from 0 to 6.\n",
    "\n",
    "**9. 'Ticket'** Contains ticket names as a string, i. e. 'STON/O2. 3101282'.\n",
    "\n",
    "**10. 'Fare'** Contains the ticket price as a float with 4 decimal places (The currency is not specified).\n",
    "\n",
    "**11. 'Cabin'** Contains the name of the passenger's cabin as a string. Consists of letters and a sequence of numbers, i. e. 'C85'.\n",
    "\n",
    "**12 'Embarked'** Contains the place where the passenger boarded as a string. S = Southampton (England), C = Cherbourg (France), Q = Queenstown (Ireland)."
   ],
   "metadata": {
    "collapsed": false
   },
   "id": "b5a1cc2aafdb74af"
  },
  {
   "cell_type": "markdown",
   "source": [
    "# 3. Datenbereinigung \n"
   ],
   "metadata": {
    "collapsed": false
   },
   "id": "ae69bf3bd10ce390"
  },
  {
   "cell_type": "markdown",
   "source": [
    "## 3.1 Bearbeitung der Spalte \"Name\""
   ],
   "metadata": {
    "collapsed": false
   },
   "id": "f1b79ba21c60498c"
  },
  {
   "cell_type": "markdown",
   "source": [
    "### 3.1.1 Special Case: Noël Leslie, Countess of Rothes "
   ],
   "metadata": {
    "collapsed": false
   },
   "id": "bf2f93354c5d7911"
  },
  {
   "cell_type": "code",
   "source": [
    "# Bei der Bereinigung der Namensspalte gab es einen Namen, der das einfache Trennen verhindert hat.\n",
    "titanic_data.iloc[759]"
   ],
   "metadata": {
    "collapsed": false,
    "ExecuteTime": {
     "end_time": "2024-04-18T08:46:01.849784Z",
     "start_time": "2024-04-18T08:46:01.835715Z"
    }
   },
   "id": "6491671370bfb18d",
   "outputs": [
    {
     "data": {
      "text/plain": [
       "PassengerId                                                  760\n",
       "Survived                                                       1\n",
       "Pclass                                                         1\n",
       "Name           Rothes, the Countess. of (Lucy Noel Martha Dye...\n",
       "Sex                                                       female\n",
       "Age                                                         33.0\n",
       "SibSp                                                          0\n",
       "Parch                                                          0\n",
       "Ticket                                                    110152\n",
       "Fare                                                        86.5\n",
       "Cabin                                                        B77\n",
       "Embarked                                                       S\n",
       "Name: 759, dtype: object"
      ]
     },
     "execution_count": 6,
     "metadata": {},
     "output_type": "execute_result"
    }
   ],
   "execution_count": 6
  },
  {
   "cell_type": "code",
   "source": [
    "# 'of ' wird aus dem Passagiernamen gestrichen, da er sonst als Vorname aufgeführt wird.\n",
    "rothes = titanic_data[titanic_data['Name'].str.contains('Rothes')]\n",
    "titanic_data.loc[rothes.index,'Name'] = rothes['Name'].str.replace(r'of ', repl='', regex=True)"
   ],
   "metadata": {
    "collapsed": false,
    "ExecuteTime": {
     "end_time": "2024-04-18T08:46:02.210870Z",
     "start_time": "2024-04-18T08:46:02.197804Z"
    }
   },
   "id": "1f3543de588a4409",
   "outputs": [],
   "execution_count": 7
  },
  {
   "cell_type": "code",
   "source": [
    "titanic_data.loc[rothes.index,'Name']"
   ],
   "metadata": {
    "collapsed": false,
    "ExecuteTime": {
     "end_time": "2024-04-18T08:46:02.647182Z",
     "start_time": "2024-04-18T08:46:02.637745Z"
    }
   },
   "id": "e3424f7f30a28d9f",
   "outputs": [
    {
     "data": {
      "text/plain": [
       "759    Rothes, the Countess. (Lucy Noel Martha Dyer-E...\n",
       "Name: Name, dtype: object"
      ]
     },
     "execution_count": 8,
     "metadata": {},
     "output_type": "execute_result"
    }
   ],
   "execution_count": 8
  },
  {
   "cell_type": "markdown",
   "source": [
    "### 3.1.2 Trennung der Namen zu 'Surname' und 'Name'"
   ],
   "metadata": {
    "collapsed": false
   },
   "id": "e393125ac49607bc"
  },
  {
   "cell_type": "code",
   "source": [
    "titanic_index = pd.Index(titanic_data.columns)"
   ],
   "metadata": {
    "collapsed": false,
    "ExecuteTime": {
     "end_time": "2024-04-18T08:46:02.793291Z",
     "start_time": "2024-04-18T08:46:02.785390Z"
    }
   },
   "id": "f6bbcbd65bce5614",
   "outputs": [],
   "execution_count": 9
  },
  {
   "cell_type": "code",
   "source": [
    "names_df = titanic_data['Name'].str.split(', ', n=1, expand=True)\n",
    "titanic_data.insert(titanic_index.get_loc('Name'), 'Surname', names_df[0])\n",
    "titanic_data.insert(titanic_index.get_loc('Name'), 'name', names_df[1])\n"
   ],
   "metadata": {
    "collapsed": false,
    "ExecuteTime": {
     "end_time": "2024-04-18T08:46:03.040339Z",
     "start_time": "2024-04-18T08:46:03.027725Z"
    }
   },
   "id": "af120525b4360862",
   "outputs": [],
   "execution_count": 10
  },
  {
   "cell_type": "code",
   "source": [
    "del titanic_data['Name']\n",
    "titanic_data.rename({'name': 'Name'}, axis=1, inplace=True)"
   ],
   "metadata": {
    "collapsed": false,
    "ExecuteTime": {
     "end_time": "2024-04-18T08:46:03.126015Z",
     "start_time": "2024-04-18T08:46:03.115556Z"
    }
   },
   "id": "19af949150044a6c",
   "outputs": [],
   "execution_count": 11
  },
  {
   "cell_type": "code",
   "source": [
    "titanic_data[['Surname', 'Name']]"
   ],
   "metadata": {
    "collapsed": false,
    "ExecuteTime": {
     "end_time": "2024-04-18T08:46:03.469239Z",
     "start_time": "2024-04-18T08:46:03.455447Z"
    }
   },
   "id": "e888966b6ffef81b",
   "outputs": [
    {
     "data": {
      "text/plain": [
       "       Surname                                        Name\n",
       "0       Braund                             Mr. Owen Harris\n",
       "1      Cumings  Mrs. John Bradley (Florence Briggs Thayer)\n",
       "2    Heikkinen                                 Miss. Laina\n",
       "3     Futrelle          Mrs. Jacques Heath (Lily May Peel)\n",
       "4        Allen                           Mr. William Henry\n",
       "..         ...                                         ...\n",
       "886   Montvila                                 Rev. Juozas\n",
       "887     Graham                        Miss. Margaret Edith\n",
       "888   Johnston              Miss. Catherine Helen \"Carrie\"\n",
       "889       Behr                             Mr. Karl Howell\n",
       "890     Dooley                                 Mr. Patrick\n",
       "\n",
       "[891 rows x 2 columns]"
      ],
      "text/html": [
       "<div>\n",
       "<style scoped>\n",
       "    .dataframe tbody tr th:only-of-type {\n",
       "        vertical-align: middle;\n",
       "    }\n",
       "\n",
       "    .dataframe tbody tr th {\n",
       "        vertical-align: top;\n",
       "    }\n",
       "\n",
       "    .dataframe thead th {\n",
       "        text-align: right;\n",
       "    }\n",
       "</style>\n",
       "<table border=\"1\" class=\"dataframe\">\n",
       "  <thead>\n",
       "    <tr style=\"text-align: right;\">\n",
       "      <th></th>\n",
       "      <th>Surname</th>\n",
       "      <th>Name</th>\n",
       "    </tr>\n",
       "  </thead>\n",
       "  <tbody>\n",
       "    <tr>\n",
       "      <th>0</th>\n",
       "      <td>Braund</td>\n",
       "      <td>Mr. Owen Harris</td>\n",
       "    </tr>\n",
       "    <tr>\n",
       "      <th>1</th>\n",
       "      <td>Cumings</td>\n",
       "      <td>Mrs. John Bradley (Florence Briggs Thayer)</td>\n",
       "    </tr>\n",
       "    <tr>\n",
       "      <th>2</th>\n",
       "      <td>Heikkinen</td>\n",
       "      <td>Miss. Laina</td>\n",
       "    </tr>\n",
       "    <tr>\n",
       "      <th>3</th>\n",
       "      <td>Futrelle</td>\n",
       "      <td>Mrs. Jacques Heath (Lily May Peel)</td>\n",
       "    </tr>\n",
       "    <tr>\n",
       "      <th>4</th>\n",
       "      <td>Allen</td>\n",
       "      <td>Mr. William Henry</td>\n",
       "    </tr>\n",
       "    <tr>\n",
       "      <th>...</th>\n",
       "      <td>...</td>\n",
       "      <td>...</td>\n",
       "    </tr>\n",
       "    <tr>\n",
       "      <th>886</th>\n",
       "      <td>Montvila</td>\n",
       "      <td>Rev. Juozas</td>\n",
       "    </tr>\n",
       "    <tr>\n",
       "      <th>887</th>\n",
       "      <td>Graham</td>\n",
       "      <td>Miss. Margaret Edith</td>\n",
       "    </tr>\n",
       "    <tr>\n",
       "      <th>888</th>\n",
       "      <td>Johnston</td>\n",
       "      <td>Miss. Catherine Helen \"Carrie\"</td>\n",
       "    </tr>\n",
       "    <tr>\n",
       "      <th>889</th>\n",
       "      <td>Behr</td>\n",
       "      <td>Mr. Karl Howell</td>\n",
       "    </tr>\n",
       "    <tr>\n",
       "      <th>890</th>\n",
       "      <td>Dooley</td>\n",
       "      <td>Mr. Patrick</td>\n",
       "    </tr>\n",
       "  </tbody>\n",
       "</table>\n",
       "<p>891 rows × 2 columns</p>\n",
       "</div>"
      ]
     },
     "execution_count": 12,
     "metadata": {},
     "output_type": "execute_result"
    }
   ],
   "execution_count": 12
  },
  {
   "cell_type": "markdown",
   "source": [
    "### 3.1.3 Trennung der Namen in 'Address' und 'First Name'"
   ],
   "metadata": {
    "collapsed": false
   },
   "id": "342455e28d6f1cb1"
  },
  {
   "cell_type": "code",
   "source": [
    "names_df = titanic_data['Name'].str.split(r'\\. ', n=1, regex=True, expand=True)\n",
    "titanic_data.insert(titanic_index.get_loc('Name'),'Address', names_df[0])\n",
    "titanic_data['Name'] = titanic_data['Name'].str.replace(r'^[^.]*\\.', '', regex=True)"
   ],
   "metadata": {
    "collapsed": false,
    "ExecuteTime": {
     "end_time": "2024-04-18T08:46:03.538871Z",
     "start_time": "2024-04-18T08:46:03.525267Z"
    }
   },
   "id": "f55d1ddc403ff2d8",
   "outputs": [],
   "execution_count": 13
  },
  {
   "cell_type": "code",
   "source": [
    "titanic_data['Address'].value_counts()"
   ],
   "metadata": {
    "collapsed": false,
    "ExecuteTime": {
     "end_time": "2024-04-18T08:46:03.776751Z",
     "start_time": "2024-04-18T08:46:03.766877Z"
    }
   },
   "id": "a4a8696243e0ab21",
   "outputs": [
    {
     "data": {
      "text/plain": [
       "Address\n",
       "Mr              517\n",
       "Miss            182\n",
       "Mrs             125\n",
       "Master           40\n",
       "Dr                7\n",
       "Rev               6\n",
       "Mlle              2\n",
       "Major             2\n",
       "Col               2\n",
       "the Countess      1\n",
       "Capt              1\n",
       "Ms                1\n",
       "Sir               1\n",
       "Lady              1\n",
       "Mme               1\n",
       "Don               1\n",
       "Jonkheer          1\n",
       "Name: count, dtype: int64"
      ]
     },
     "execution_count": 14,
     "metadata": {},
     "output_type": "execute_result"
    }
   ],
   "execution_count": 14
  },
  {
   "cell_type": "markdown",
   "source": [
    "### 3.1.4 Trennung der Mädchennamen zu 'Name' und 'Maiden Name'"
   ],
   "metadata": {
    "collapsed": false
   },
   "id": "1fb477b81398c5e4"
  },
  {
   "cell_type": "code",
   "source": [
    "titanic_index = pd.Index(titanic_data.columns)"
   ],
   "metadata": {
    "collapsed": false,
    "ExecuteTime": {
     "end_time": "2024-04-18T08:46:03.982955Z",
     "start_time": "2024-04-18T08:46:03.975631Z"
    }
   },
   "id": "4d5276c87bdea33a",
   "outputs": [],
   "execution_count": 15
  },
  {
   "cell_type": "code",
   "source": [
    "names_df = titanic_data['Name'].str.extract(r'\\((.*?)\\)', expand=False)\n",
    "titanic_data.insert(titanic_index.get_loc('Name') + 1, column='Maiden Name', value=names_df)\n",
    "titanic_data['Name'] = titanic_data['Name'].str.replace(r'\\(.*?\\)', repl='', regex=True)"
   ],
   "metadata": {
    "collapsed": false,
    "ExecuteTime": {
     "end_time": "2024-04-18T08:46:04.459745Z",
     "start_time": "2024-04-18T08:46:04.435856Z"
    }
   },
   "id": "fd7d40c319904917",
   "outputs": [],
   "execution_count": 16
  },
  {
   "cell_type": "code",
   "source": [
    "titanic_data"
   ],
   "metadata": {
    "collapsed": false,
    "ExecuteTime": {
     "end_time": "2024-04-18T08:46:04.710031Z",
     "start_time": "2024-04-18T08:46:04.670692Z"
    }
   },
   "id": "fcbc7385f7fa8ef1",
   "outputs": [
    {
     "data": {
      "text/plain": [
       "     PassengerId  Survived  Pclass Address                       Name  \\\n",
       "0              1         0       3      Mr                Owen Harris   \n",
       "1              2         1       1     Mrs              John Bradley    \n",
       "2              3         1       3    Miss                      Laina   \n",
       "3              4         1       1     Mrs             Jacques Heath    \n",
       "4              5         0       3      Mr              William Henry   \n",
       "..           ...       ...     ...     ...                        ...   \n",
       "886          887         0       2     Rev                     Juozas   \n",
       "887          888         1       1    Miss             Margaret Edith   \n",
       "888          889         0       3    Miss   Catherine Helen \"Carrie\"   \n",
       "889          890         1       1      Mr                Karl Howell   \n",
       "890          891         0       3      Mr                    Patrick   \n",
       "\n",
       "                Maiden Name    Surname     Sex   Age  SibSp  Parch  \\\n",
       "0                       NaN     Braund    male  22.0      1      0   \n",
       "1    Florence Briggs Thayer    Cumings  female  38.0      1      0   \n",
       "2                       NaN  Heikkinen  female  26.0      0      0   \n",
       "3             Lily May Peel   Futrelle  female  35.0      1      0   \n",
       "4                       NaN      Allen    male  35.0      0      0   \n",
       "..                      ...        ...     ...   ...    ...    ...   \n",
       "886                     NaN   Montvila    male  27.0      0      0   \n",
       "887                     NaN     Graham  female  19.0      0      0   \n",
       "888                     NaN   Johnston  female   NaN      1      2   \n",
       "889                     NaN       Behr    male  26.0      0      0   \n",
       "890                     NaN     Dooley    male  32.0      0      0   \n",
       "\n",
       "               Ticket     Fare Cabin Embarked  \n",
       "0           A/5 21171   7.2500   NaN        S  \n",
       "1            PC 17599  71.2833   C85        C  \n",
       "2    STON/O2. 3101282   7.9250   NaN        S  \n",
       "3              113803  53.1000  C123        S  \n",
       "4              373450   8.0500   NaN        S  \n",
       "..                ...      ...   ...      ...  \n",
       "886            211536  13.0000   NaN        S  \n",
       "887            112053  30.0000   B42        S  \n",
       "888        W./C. 6607  23.4500   NaN        S  \n",
       "889            111369  30.0000  C148        C  \n",
       "890            370376   7.7500   NaN        Q  \n",
       "\n",
       "[891 rows x 15 columns]"
      ],
      "text/html": [
       "<div>\n",
       "<style scoped>\n",
       "    .dataframe tbody tr th:only-of-type {\n",
       "        vertical-align: middle;\n",
       "    }\n",
       "\n",
       "    .dataframe tbody tr th {\n",
       "        vertical-align: top;\n",
       "    }\n",
       "\n",
       "    .dataframe thead th {\n",
       "        text-align: right;\n",
       "    }\n",
       "</style>\n",
       "<table border=\"1\" class=\"dataframe\">\n",
       "  <thead>\n",
       "    <tr style=\"text-align: right;\">\n",
       "      <th></th>\n",
       "      <th>PassengerId</th>\n",
       "      <th>Survived</th>\n",
       "      <th>Pclass</th>\n",
       "      <th>Address</th>\n",
       "      <th>Name</th>\n",
       "      <th>Maiden Name</th>\n",
       "      <th>Surname</th>\n",
       "      <th>Sex</th>\n",
       "      <th>Age</th>\n",
       "      <th>SibSp</th>\n",
       "      <th>Parch</th>\n",
       "      <th>Ticket</th>\n",
       "      <th>Fare</th>\n",
       "      <th>Cabin</th>\n",
       "      <th>Embarked</th>\n",
       "    </tr>\n",
       "  </thead>\n",
       "  <tbody>\n",
       "    <tr>\n",
       "      <th>0</th>\n",
       "      <td>1</td>\n",
       "      <td>0</td>\n",
       "      <td>3</td>\n",
       "      <td>Mr</td>\n",
       "      <td>Owen Harris</td>\n",
       "      <td>NaN</td>\n",
       "      <td>Braund</td>\n",
       "      <td>male</td>\n",
       "      <td>22.0</td>\n",
       "      <td>1</td>\n",
       "      <td>0</td>\n",
       "      <td>A/5 21171</td>\n",
       "      <td>7.2500</td>\n",
       "      <td>NaN</td>\n",
       "      <td>S</td>\n",
       "    </tr>\n",
       "    <tr>\n",
       "      <th>1</th>\n",
       "      <td>2</td>\n",
       "      <td>1</td>\n",
       "      <td>1</td>\n",
       "      <td>Mrs</td>\n",
       "      <td>John Bradley</td>\n",
       "      <td>Florence Briggs Thayer</td>\n",
       "      <td>Cumings</td>\n",
       "      <td>female</td>\n",
       "      <td>38.0</td>\n",
       "      <td>1</td>\n",
       "      <td>0</td>\n",
       "      <td>PC 17599</td>\n",
       "      <td>71.2833</td>\n",
       "      <td>C85</td>\n",
       "      <td>C</td>\n",
       "    </tr>\n",
       "    <tr>\n",
       "      <th>2</th>\n",
       "      <td>3</td>\n",
       "      <td>1</td>\n",
       "      <td>3</td>\n",
       "      <td>Miss</td>\n",
       "      <td>Laina</td>\n",
       "      <td>NaN</td>\n",
       "      <td>Heikkinen</td>\n",
       "      <td>female</td>\n",
       "      <td>26.0</td>\n",
       "      <td>0</td>\n",
       "      <td>0</td>\n",
       "      <td>STON/O2. 3101282</td>\n",
       "      <td>7.9250</td>\n",
       "      <td>NaN</td>\n",
       "      <td>S</td>\n",
       "    </tr>\n",
       "    <tr>\n",
       "      <th>3</th>\n",
       "      <td>4</td>\n",
       "      <td>1</td>\n",
       "      <td>1</td>\n",
       "      <td>Mrs</td>\n",
       "      <td>Jacques Heath</td>\n",
       "      <td>Lily May Peel</td>\n",
       "      <td>Futrelle</td>\n",
       "      <td>female</td>\n",
       "      <td>35.0</td>\n",
       "      <td>1</td>\n",
       "      <td>0</td>\n",
       "      <td>113803</td>\n",
       "      <td>53.1000</td>\n",
       "      <td>C123</td>\n",
       "      <td>S</td>\n",
       "    </tr>\n",
       "    <tr>\n",
       "      <th>4</th>\n",
       "      <td>5</td>\n",
       "      <td>0</td>\n",
       "      <td>3</td>\n",
       "      <td>Mr</td>\n",
       "      <td>William Henry</td>\n",
       "      <td>NaN</td>\n",
       "      <td>Allen</td>\n",
       "      <td>male</td>\n",
       "      <td>35.0</td>\n",
       "      <td>0</td>\n",
       "      <td>0</td>\n",
       "      <td>373450</td>\n",
       "      <td>8.0500</td>\n",
       "      <td>NaN</td>\n",
       "      <td>S</td>\n",
       "    </tr>\n",
       "    <tr>\n",
       "      <th>...</th>\n",
       "      <td>...</td>\n",
       "      <td>...</td>\n",
       "      <td>...</td>\n",
       "      <td>...</td>\n",
       "      <td>...</td>\n",
       "      <td>...</td>\n",
       "      <td>...</td>\n",
       "      <td>...</td>\n",
       "      <td>...</td>\n",
       "      <td>...</td>\n",
       "      <td>...</td>\n",
       "      <td>...</td>\n",
       "      <td>...</td>\n",
       "      <td>...</td>\n",
       "      <td>...</td>\n",
       "    </tr>\n",
       "    <tr>\n",
       "      <th>886</th>\n",
       "      <td>887</td>\n",
       "      <td>0</td>\n",
       "      <td>2</td>\n",
       "      <td>Rev</td>\n",
       "      <td>Juozas</td>\n",
       "      <td>NaN</td>\n",
       "      <td>Montvila</td>\n",
       "      <td>male</td>\n",
       "      <td>27.0</td>\n",
       "      <td>0</td>\n",
       "      <td>0</td>\n",
       "      <td>211536</td>\n",
       "      <td>13.0000</td>\n",
       "      <td>NaN</td>\n",
       "      <td>S</td>\n",
       "    </tr>\n",
       "    <tr>\n",
       "      <th>887</th>\n",
       "      <td>888</td>\n",
       "      <td>1</td>\n",
       "      <td>1</td>\n",
       "      <td>Miss</td>\n",
       "      <td>Margaret Edith</td>\n",
       "      <td>NaN</td>\n",
       "      <td>Graham</td>\n",
       "      <td>female</td>\n",
       "      <td>19.0</td>\n",
       "      <td>0</td>\n",
       "      <td>0</td>\n",
       "      <td>112053</td>\n",
       "      <td>30.0000</td>\n",
       "      <td>B42</td>\n",
       "      <td>S</td>\n",
       "    </tr>\n",
       "    <tr>\n",
       "      <th>888</th>\n",
       "      <td>889</td>\n",
       "      <td>0</td>\n",
       "      <td>3</td>\n",
       "      <td>Miss</td>\n",
       "      <td>Catherine Helen \"Carrie\"</td>\n",
       "      <td>NaN</td>\n",
       "      <td>Johnston</td>\n",
       "      <td>female</td>\n",
       "      <td>NaN</td>\n",
       "      <td>1</td>\n",
       "      <td>2</td>\n",
       "      <td>W./C. 6607</td>\n",
       "      <td>23.4500</td>\n",
       "      <td>NaN</td>\n",
       "      <td>S</td>\n",
       "    </tr>\n",
       "    <tr>\n",
       "      <th>889</th>\n",
       "      <td>890</td>\n",
       "      <td>1</td>\n",
       "      <td>1</td>\n",
       "      <td>Mr</td>\n",
       "      <td>Karl Howell</td>\n",
       "      <td>NaN</td>\n",
       "      <td>Behr</td>\n",
       "      <td>male</td>\n",
       "      <td>26.0</td>\n",
       "      <td>0</td>\n",
       "      <td>0</td>\n",
       "      <td>111369</td>\n",
       "      <td>30.0000</td>\n",
       "      <td>C148</td>\n",
       "      <td>C</td>\n",
       "    </tr>\n",
       "    <tr>\n",
       "      <th>890</th>\n",
       "      <td>891</td>\n",
       "      <td>0</td>\n",
       "      <td>3</td>\n",
       "      <td>Mr</td>\n",
       "      <td>Patrick</td>\n",
       "      <td>NaN</td>\n",
       "      <td>Dooley</td>\n",
       "      <td>male</td>\n",
       "      <td>32.0</td>\n",
       "      <td>0</td>\n",
       "      <td>0</td>\n",
       "      <td>370376</td>\n",
       "      <td>7.7500</td>\n",
       "      <td>NaN</td>\n",
       "      <td>Q</td>\n",
       "    </tr>\n",
       "  </tbody>\n",
       "</table>\n",
       "<p>891 rows × 15 columns</p>\n",
       "</div>"
      ]
     },
     "execution_count": 17,
     "metadata": {},
     "output_type": "execute_result"
    }
   ],
   "execution_count": 17
  },
  {
   "cell_type": "markdown",
   "source": [
    "## 3.2 Mitgereiste Familienmitglieder"
   ],
   "metadata": {
    "collapsed": false
   },
   "id": "26cc1b1d055cc4ea"
  },
  {
   "cell_type": "code",
   "source": [
    "titanic_data['Fam'] = titanic_data[\"SibSp\"] + titanic_data[\"Parch\"]"
   ],
   "metadata": {
    "collapsed": false,
    "ExecuteTime": {
     "end_time": "2024-04-18T08:46:05.045009Z",
     "start_time": "2024-04-18T08:46:05.035671Z"
    }
   },
   "id": "78c3adae6a1cae7e",
   "outputs": [],
   "execution_count": 18
  },
  {
   "cell_type": "code",
   "source": [
    "titanic_data[['Fam','Survived']]"
   ],
   "metadata": {
    "collapsed": false,
    "ExecuteTime": {
     "end_time": "2024-04-18T08:46:05.421433Z",
     "start_time": "2024-04-18T08:46:05.380623Z"
    }
   },
   "id": "c99289e6bde63cca",
   "outputs": [
    {
     "data": {
      "text/plain": [
       "     Fam  Survived\n",
       "0      1         0\n",
       "1      1         1\n",
       "2      0         1\n",
       "3      1         1\n",
       "4      0         0\n",
       "..   ...       ...\n",
       "886    0         0\n",
       "887    0         1\n",
       "888    3         0\n",
       "889    0         1\n",
       "890    0         0\n",
       "\n",
       "[891 rows x 2 columns]"
      ],
      "text/html": [
       "<div>\n",
       "<style scoped>\n",
       "    .dataframe tbody tr th:only-of-type {\n",
       "        vertical-align: middle;\n",
       "    }\n",
       "\n",
       "    .dataframe tbody tr th {\n",
       "        vertical-align: top;\n",
       "    }\n",
       "\n",
       "    .dataframe thead th {\n",
       "        text-align: right;\n",
       "    }\n",
       "</style>\n",
       "<table border=\"1\" class=\"dataframe\">\n",
       "  <thead>\n",
       "    <tr style=\"text-align: right;\">\n",
       "      <th></th>\n",
       "      <th>Fam</th>\n",
       "      <th>Survived</th>\n",
       "    </tr>\n",
       "  </thead>\n",
       "  <tbody>\n",
       "    <tr>\n",
       "      <th>0</th>\n",
       "      <td>1</td>\n",
       "      <td>0</td>\n",
       "    </tr>\n",
       "    <tr>\n",
       "      <th>1</th>\n",
       "      <td>1</td>\n",
       "      <td>1</td>\n",
       "    </tr>\n",
       "    <tr>\n",
       "      <th>2</th>\n",
       "      <td>0</td>\n",
       "      <td>1</td>\n",
       "    </tr>\n",
       "    <tr>\n",
       "      <th>3</th>\n",
       "      <td>1</td>\n",
       "      <td>1</td>\n",
       "    </tr>\n",
       "    <tr>\n",
       "      <th>4</th>\n",
       "      <td>0</td>\n",
       "      <td>0</td>\n",
       "    </tr>\n",
       "    <tr>\n",
       "      <th>...</th>\n",
       "      <td>...</td>\n",
       "      <td>...</td>\n",
       "    </tr>\n",
       "    <tr>\n",
       "      <th>886</th>\n",
       "      <td>0</td>\n",
       "      <td>0</td>\n",
       "    </tr>\n",
       "    <tr>\n",
       "      <th>887</th>\n",
       "      <td>0</td>\n",
       "      <td>1</td>\n",
       "    </tr>\n",
       "    <tr>\n",
       "      <th>888</th>\n",
       "      <td>3</td>\n",
       "      <td>0</td>\n",
       "    </tr>\n",
       "    <tr>\n",
       "      <th>889</th>\n",
       "      <td>0</td>\n",
       "      <td>1</td>\n",
       "    </tr>\n",
       "    <tr>\n",
       "      <th>890</th>\n",
       "      <td>0</td>\n",
       "      <td>0</td>\n",
       "    </tr>\n",
       "  </tbody>\n",
       "</table>\n",
       "<p>891 rows × 2 columns</p>\n",
       "</div>"
      ]
     },
     "execution_count": 19,
     "metadata": {},
     "output_type": "execute_result"
    }
   ],
   "execution_count": 19
  },
  {
   "cell_type": "markdown",
   "source": [
    "## 3.3 Aufteilung der Kabinen & Ergänzung fehlender Werte"
   ],
   "metadata": {
    "collapsed": false
   },
   "id": "9f88848adc34c49"
  },
  {
   "cell_type": "code",
   "source": [
    "cabin_df = titanic_data['Cabin']\n",
    "pattern = r'([A-Z]?).*'\n",
    "titanic_data['Cabin_Loc'] = cabin_df.str.extract(pattern, expand=True)"
   ],
   "metadata": {
    "collapsed": false,
    "ExecuteTime": {
     "end_time": "2024-04-18T08:46:05.591257Z",
     "start_time": "2024-04-18T08:46:05.580724Z"
    }
   },
   "id": "2f51fe2641293561",
   "outputs": [],
   "execution_count": 20
  },
  {
   "cell_type": "code",
   "source": [
    "# Um später Aussagen über fehlende Kabinenangaben machen zu können, wir ein Wert 'N' für die Nan-Werte der Kabinenspalte genutzt.\n",
    "titanic_data['Cabin_Loc'] = titanic_data['Cabin_Loc'].fillna('N')"
   ],
   "metadata": {
    "collapsed": false,
    "ExecuteTime": {
     "end_time": "2024-04-18T08:46:06.051272Z",
     "start_time": "2024-04-18T08:46:06.039731Z"
    }
   },
   "id": "8860d8510847660b",
   "outputs": [],
   "execution_count": 21
  },
  {
   "cell_type": "code",
   "source": [
    "titanic_data['Cabin_Loc'].value_counts().sort_index()"
   ],
   "metadata": {
    "collapsed": false,
    "ExecuteTime": {
     "end_time": "2024-04-18T08:46:06.275694Z",
     "start_time": "2024-04-18T08:46:06.265985Z"
    }
   },
   "id": "8afbff89c2fe9cf3",
   "outputs": [
    {
     "data": {
      "text/plain": [
       "Cabin_Loc\n",
       "A     15\n",
       "B     47\n",
       "C     59\n",
       "D     33\n",
       "E     32\n",
       "F     13\n",
       "G      4\n",
       "N    687\n",
       "T      1\n",
       "Name: count, dtype: int64"
      ]
     },
     "execution_count": 22,
     "metadata": {},
     "output_type": "execute_result"
    }
   ],
   "execution_count": 22
  },
  {
   "cell_type": "markdown",
   "source": [
    "# 4. Datenanalyse"
   ],
   "metadata": {
    "collapsed": false
   },
   "id": "61a8e7c8e11c225d"
  },
  {
   "cell_type": "markdown",
   "source": [
    "## 4.1 Überlebensrate insgesamt\n"
   ],
   "metadata": {
    "collapsed": false
   },
   "id": "7d3361e24742c390"
  },
  {
   "cell_type": "code",
   "source": [
    "survival_rate = titanic_data['Survived'].mean()\n",
    "print(f\"Die Überlebensrate beträgt: {survival_rate:.2f}\")"
   ],
   "metadata": {
    "collapsed": false,
    "ExecuteTime": {
     "end_time": "2024-04-18T08:46:06.451485Z",
     "start_time": "2024-04-18T08:46:06.440986Z"
    }
   },
   "id": "ce976f278213586b",
   "outputs": [
    {
     "name": "stdout",
     "output_type": "stream",
     "text": [
      "Die Überlebensrate beträgt: 0.38\n"
     ]
    }
   ],
   "execution_count": 23
  },
  {
   "cell_type": "code",
   "source": [
    "survival_counts = titanic_data['Survived'].value_counts()\n",
    "\n",
    "fig_survived, ax_survived = plt.subplots()\n",
    "\n",
    "survived_plot = survival_counts.plot(kind='bar',\n",
    "                                     color='#00FFFF',\n",
    "                                     ec='black',\n",
    "                                     lw=1,\n",
    "                                     rot=0,\n",
    "                                     )\n",
    "\n",
    "survived_plot.set_facecolor('grey')\n",
    "fig_survived.patch.set_facecolor('grey')\n",
    "\n",
    "survived_plot.set_title('Überlebensrate insgesamt',\n",
    "                        fontsize=14,\n",
    "                        color='black', \n",
    "                        fontweight='bold',\n",
    "                        pad=30,\n",
    "                        loc='left', \n",
    "                        x=0.21,\n",
    "                        )\n",
    "\n",
    "ax_survived.set_xlabel('0 = verstorben, 1 = überlebt', \n",
    "                       fontsize=14\n",
    "                       )\n",
    "ax_survived.set_ylabel('Anzahl', \n",
    "                       fontsize=14\n",
    "                       )\n",
    "plt.show()\n",
    "print(f'{survival_counts}')"
   ],
   "metadata": {
    "collapsed": false,
    "ExecuteTime": {
     "end_time": "2024-04-18T08:46:07.241902Z",
     "start_time": "2024-04-18T08:46:06.776747Z"
    }
   },
   "id": "b0513939fab6f706",
   "outputs": [
    {
     "data": {
      "text/plain": [
       "<Figure size 640x480 with 1 Axes>"
      ],
      "image/png": "[encoded data removed]"
     },
     "metadata": {},
     "output_type": "display_data"
    },
    {
     "name": "stdout",
     "output_type": "stream",
     "text": [
      "Survived\n",
      "0    549\n",
      "1    342\n",
      "Name: count, dtype: int64\n"
     ]
    }
   ],
   "execution_count": 24
  },
  {
   "cell_type": "markdown",
   "source": [
    "## 4.2 Überlebensrate nach Passagierklasse (Pclass) und Kabine (Cabin)"
   ],
   "metadata": {
    "collapsed": false
   },
   "id": "23fda4e753862348"
  },
  {
   "cell_type": "markdown",
   "source": [
    "### 4.2.1 Überlebensrate nach Passagierklasse"
   ],
   "metadata": {
    "collapsed": false
   },
   "id": "b20b4a3874694169"
  },
  {
   "cell_type": "code",
   "source": [
    "classes_order = titanic_data['Pclass'].value_counts().reindex([1, 2, 3])\n",
    "\n",
    "fig_classes_order, ax_classes_order = plt.subplots()\n",
    "\n",
    "classes_order.plot(kind='bar',\n",
    "                   color='#00FFFF',  \n",
    "                   ec='black',\n",
    "                   lw=1, \n",
    "                   fontsize=12,\n",
    "                   ax=ax_classes_order,\n",
    "                   rot=0,\n",
    "                   )  \n",
    "\n",
    "ax_classes_order.set_facecolor('#989797')  \n",
    "fig_classes_order.patch.set_facecolor('#929191')\n",
    "\n",
    "ax_classes_order.set_title('Anzahl der Passagiere nach Klassen', \n",
    "                           fontsize=14,\n",
    "                           color='black',\n",
    "                           fontweight='bold',\n",
    "                           pad=30,\n",
    "                           loc='left', \n",
    "                           x=0.1,\n",
    "                           )\n",
    "\n",
    "ax_classes_order.set_xlabel('Klassen', \n",
    "                            fontsize=14\n",
    "                            )\n",
    "ax_classes_order.set_ylabel('Anzahl', \n",
    "                            fontsize=14\n",
    "                            )\n",
    "\n",
    "plt.xticks([0, 1, 2], ['1. Klasse', '2. Klasse', '3. Klasse'])\n",
    "\n",
    "plt.show()\n",
    "print(f\"Anzahl nach Passagierklasse:\\n{classes_order}\")"
   ],
   "metadata": {
    "collapsed": false,
    "ExecuteTime": {
     "end_time": "2024-04-18T08:46:07.555591Z",
     "start_time": "2024-04-18T08:46:07.241902Z"
    }
   },
   "id": "7d1ec2e6e96da235",
   "outputs": [
    {
     "data": {
      "text/plain": [
       "<Figure size 640x480 with 1 Axes>"
      ],
      "image/png": "[encoded data removed]"
     },
     "metadata": {},
     "output_type": "display_data"
    },
    {
     "name": "stdout",
     "output_type": "stream",
     "text": [
      "Anzahl nach Passagierklasse:\n",
      "Pclass\n",
      "1    216\n",
      "2    184\n",
      "3    491\n",
      "Name: count, dtype: int64\n"
     ]
    }
   ],
   "execution_count": 25
  },
  {
   "cell_type": "code",
   "source": [
    "survived_by_class = titanic_data.groupby('Pclass')['Survived'].mean()\n",
    "\n",
    "fig, ax = plt.subplots()\n",
    "\n",
    "survived_by_class.plot(kind='pie',\n",
    "                       labels=['1. Klasse', '2. Klasse', '3. Klasse'],\n",
    "                       explode=(0,0,0.3),\n",
    "                       autopct='%1.1f%%',\n",
    "                       startangle=30,\n",
    "                       cmap='Set2',\n",
    "                       ylabel='',\n",
    "                       )\n",
    "\n",
    "fig.patch.set_facecolor('#929191')\n",
    "\n",
    "title = ax.set_title('Überlebensrate nach Klasse',\n",
    "                     fontsize=14,\n",
    "                     color='black',\n",
    "                     fontweight='bold',\n",
    "                     )\n",
    "                           \n",
    "title.set_position([0.63, 1.0])\n",
    "\n",
    "plt.show()\n",
    "\n",
    "print(f\"Überlebensrate nach Passagierklasse:\\n{survived_by_class}\")"
   ],
   "metadata": {
    "collapsed": false,
    "ExecuteTime": {
     "end_time": "2024-04-18T08:46:07.742922Z",
     "start_time": "2024-04-18T08:46:07.555591Z"
    }
   },
   "id": "43336542fcb7424c",
   "outputs": [
    {
     "data": {
      "text/plain": [
       "<Figure size 640x480 with 1 Axes>"
      ],
      "image/png": "[encoded data removed]"
     },
     "metadata": {},
     "output_type": "display_data"
    },
    {
     "name": "stdout",
     "output_type": "stream",
     "text": [
      "Überlebensrate nach Passagierklasse:\n",
      "Pclass\n",
      "1    0.629630\n",
      "2    0.472826\n",
      "3    0.242363\n",
      "Name: Survived, dtype: float64\n"
     ]
    }
   ],
   "execution_count": 26
  },
  {
   "cell_type": "markdown",
   "source": [
    "### 4.2.2 Überlebensrate nach Kabine"
   ],
   "metadata": {
    "collapsed": false
   },
   "id": "6d74a874ba5c0a9d"
  },
  {
   "cell_type": "code",
   "source": [
    "cabin_survived_rate = titanic_data.groupby('Cabin_Loc')['Survived'].agg(['mean', 'count', 'sum'])\n",
    "print(cabin_survived_rate)\n",
    "print(f\"Von {len(titanic_data)} Einträgen im Datensatz hatten nur {titanic_data['Cabin'].count()} eine Kabinenangabe.\") "
   ],
   "metadata": {
    "collapsed": false,
    "ExecuteTime": {
     "end_time": "2024-04-18T08:46:07.760251Z",
     "start_time": "2024-04-18T08:46:07.742922Z"
    }
   },
   "id": "cab19dd1b437d1a9",
   "outputs": [
    {
     "name": "stdout",
     "output_type": "stream",
     "text": [
      "               mean  count  sum\n",
      "Cabin_Loc                      \n",
      "A          0.466667     15    7\n",
      "B          0.744681     47   35\n",
      "C          0.593220     59   35\n",
      "D          0.757576     33   25\n",
      "E          0.750000     32   24\n",
      "F          0.615385     13    8\n",
      "G          0.500000      4    2\n",
      "N          0.299854    687  206\n",
      "T          0.000000      1    0\n",
      "Von 891 Einträgen im Datensatz hatten nur 204 eine Kabinenangabe.\n"
     ]
    }
   ],
   "execution_count": 27
  },
  {
   "cell_type": "code",
   "source": [
    "cabin_survived = titanic_data.groupby('Cabin_Loc')['Survived'].mean()\n",
    "\n",
    "fig_cabin_survival, ax_cabin_survival = plt.subplots()\n",
    "\n",
    "cabin_survival_plot = cabin_survived.plot(kind='bar',\n",
    "                                          color='#00FFFF',\n",
    "                                          ec='black',\n",
    "                                          lw=1,\n",
    "                                          fontsize=12,\n",
    "                                          rot=0,\n",
    "                                          )\n",
    "\n",
    "ax_cabin_survival.set_facecolor('#989797')\n",
    "fig_cabin_survival.patch.set_facecolor('#929191')\n",
    "\n",
    "cabin_survival_plot.set_title('Überlebensrate nach Kabine',\n",
    "                              fontsize=14,\n",
    "                              color='black',\n",
    "                              fontweight='bold',\n",
    "                              pad=30,\n",
    "                              loc='left', \n",
    "                              x=0.2,\n",
    "                              )\n",
    "\n",
    "ax_cabin_survival.set_xlabel('Kabine', \n",
    "                             fontsize=14,\n",
    "                             )\n",
    "ax_cabin_survival.set_ylabel('Überlebensrate', \n",
    "                             fontsize=14,\n",
    "                             )\n",
    "\n",
    "plt.show()\n",
    "print(f\"Überlebensrate nach Kabine:\\n{cabin_survived}\")"
   ],
   "metadata": {
    "collapsed": false,
    "ExecuteTime": {
     "end_time": "2024-04-18T08:46:08.298722Z",
     "start_time": "2024-04-18T08:46:07.790368Z"
    }
   },
   "id": "c68fa816b0a2303f",
   "outputs": [
    {
     "data": {
      "text/plain": [
       "<Figure size 640x480 with 1 Axes>"
      ],
      "image/png": "[encoded data removed]"
     },
     "metadata": {},
     "output_type": "display_data"
    },
    {
     "name": "stdout",
     "output_type": "stream",
     "text": [
      "Überlebensrate nach Kabine:\n",
      "Cabin_Loc\n",
      "A    0.466667\n",
      "B    0.744681\n",
      "C    0.593220\n",
      "D    0.757576\n",
      "E    0.750000\n",
      "F    0.615385\n",
      "G    0.500000\n",
      "N    0.299854\n",
      "T    0.000000\n",
      "Name: Survived, dtype: float64\n"
     ]
    }
   ],
   "execution_count": 28
  },
  {
   "cell_type": "markdown",
   "source": [
    "### 4.3 Überlebensrate nach Geschlecht"
   ],
   "metadata": {
    "collapsed": false
   },
   "id": "21f8f59d70becccd"
  },
  {
   "cell_type": "code",
   "source": [
    "survived_women = titanic_data.loc[titanic_data.Sex == 'female'][\"Survived\"]\n",
    "survived_men = titanic_data.loc[titanic_data.Sex == 'male'][\"Survived\"]"
   ],
   "metadata": {
    "collapsed": false,
    "ExecuteTime": {
     "end_time": "2024-04-18T08:46:08.309939Z",
     "start_time": "2024-04-18T08:46:08.298722Z"
    }
   },
   "id": "f00c1a822f337866",
   "outputs": [],
   "execution_count": 29
  },
  {
   "cell_type": "code",
   "source": [
    "survival_by_gender = titanic_data.groupby('Sex')['Survived'].mean()\n",
    "\n",
    "sex_fig, sex_ax = plt.subplots()\n",
    "\n",
    "survival_by_gender_plot = survival_by_gender.plot(kind='pie',\n",
    "                                                  labels=['Weiblich', 'Männlich'],\n",
    "                                                  explode=(0,0),\n",
    "                                                  autopct='%1.1f%%',\n",
    "                                                  startangle=40,\n",
    "                                                  cmap='Set2',\n",
    "                                                  ylabel='',\n",
    "                                                  )\n",
    "\n",
    "sex_fig.patch.set_facecolor('#929191')\n",
    "\n",
    "survival_by_gender_plot.set_title('Überlebensrate nach Geschlecht \\n insgesamt', \n",
    "                                  fontsize=14,\n",
    "                                  color='black',\n",
    "                                  fontweight='bold',\n",
    "                                  )\n",
    "\n",
    "plt.show()"
   ],
   "metadata": {
    "collapsed": false,
    "ExecuteTime": {
     "end_time": "2024-04-18T08:46:08.620400Z",
     "start_time": "2024-04-18T08:46:08.445463Z"
    }
   },
   "id": "d6fd958e469bfdb3",
   "outputs": [
    {
     "data": {
      "text/plain": [
       "<Figure size 640x480 with 1 Axes>"
      ],
      "image/png": "[encoded data removed]"
     },
     "metadata": {},
     "output_type": "display_data"
    }
   ],
   "execution_count": 30
  },
  {
   "cell_type": "code",
   "source": [
    "print(f\" Anhand des Datensatzes waren {survived_women.size} Frauen und {survived_men.size} Männer an Bord der Titanic. Insgesamt haben von allen Frauen an Bord {sum(survived_women)} überlebt ({(sum(survived_women) / survived_women.size)*100:.2f} %) und von allen Männern {sum(survived_men)} ({(sum(survived_men) / survived_men.size)*100:.2f} %).\")"
   ],
   "metadata": {
    "collapsed": false,
    "ExecuteTime": {
     "end_time": "2024-04-18T08:46:08.629356Z",
     "start_time": "2024-04-18T08:46:08.620400Z"
    }
   },
   "id": "e8d224d06fd3468c",
   "outputs": [
    {
     "name": "stdout",
     "output_type": "stream",
     "text": [
      " Anhand des Datensatzes waren 314 Frauen und 577 Männer an Bord der Titanic. Insgesamt haben von allen Frauen an Bord 233 überlebt (74.20 %) und von allen Männern 109 (18.89 %).\n"
     ]
    }
   ],
   "execution_count": 31
  },
  {
   "cell_type": "markdown",
   "source": [
    "## 4.4 Überlebensrate nach Alter"
   ],
   "metadata": {
    "collapsed": false
   },
   "id": "7a30d389aaec38d0"
  },
  {
   "cell_type": "markdown",
   "source": [
    "### 4.4.1 Altersverteilung der Passagiere"
   ],
   "metadata": {
    "collapsed": false
   },
   "id": "ab6b3f87102497d6"
  },
  {
   "cell_type": "code",
   "source": [
    "age_fig, age_ax = plt.subplots()\n",
    "\n",
    "age_survived_plot = titanic_data['Age'].plot(kind='hist',\n",
    "                                             color='#00FFFF',\n",
    "                                             ec='black',\n",
    "                                             lw=1,\n",
    "                                             fontsize=12,\n",
    "                                             bins=20,\n",
    "                                             width=3,\n",
    "                                             rot=0,\n",
    "                                             )\n",
    "\n",
    "age_fig.patch.set_facecolor('#929191')\n",
    "age_ax.set_facecolor('#989797')  \n",
    "\n",
    "age_survived_plot.set_title('Altersverteilung der Passagiere', \n",
    "                            fontsize=14,\n",
    "                            color='black',\n",
    "                            fontweight='bold',\n",
    "                            pad=30,\n",
    "                            loc='left', \n",
    "                            x=0.15,\n",
    "                            )\n",
    "\n",
    "age_ax.set_xlabel('Alter',\n",
    "              fontsize=14,\n",
    "              )\n",
    "age_ax.set_ylabel('Häufigkeit',\n",
    "              fontsize=14,\n",
    "              )\n",
    "\n",
    "plt.show()"
   ],
   "metadata": {
    "collapsed": false,
    "ExecuteTime": {
     "end_time": "2024-04-18T08:46:09.322033Z",
     "start_time": "2024-04-18T08:46:08.825766Z"
    }
   },
   "id": "1622006b649e5ba0",
   "outputs": [
    {
     "data": {
      "text/plain": [
       "<Figure size 640x480 with 1 Axes>"
      ],
      "image/png": "[encoded data removed]"
     },
     "metadata": {},
     "output_type": "display_data"
    }
   ],
   "execution_count": 32
  },
  {
   "cell_type": "markdown",
   "source": [
    "### 4.4.2 Überlebensrate nach Altersverteilung"
   ],
   "metadata": {
    "collapsed": false
   },
   "id": "b7314fb21ccee973"
  },
  {
   "cell_type": "code",
   "source": [
    "age_bins = ['1-10', '11-20', '21-30', '31-40', '41-50', '51-60', '61-70', '71-80', '81-90']\n",
    "titanic_data['AgeBins'] = pd.cut(titanic_data['Age'], range(0, 100, 10), labels=age_bins)\n",
    "age_bins_df = titanic_data.groupby('AgeBins')['Survived'].agg(['mean', 'count', 'sum'])"
   ],
   "metadata": {
    "collapsed": false,
    "ExecuteTime": {
     "end_time": "2024-04-18T08:46:09.336072Z",
     "start_time": "2024-04-18T08:46:09.322033Z"
    }
   },
   "id": "fd85b2bb1aeea2ba",
   "outputs": [
    {
     "name": "stderr",
     "output_type": "stream",
     "text": [
      "C:\\Users\\Admin\\AppData\\Local\\Temp\\ipykernel_11856\\845224632.py:3: FutureWarning: The default of observed=False is deprecated and will be changed to True in a future version of pandas. Pass observed=False to retain current behavior or observed=True to adopt the future default and silence this warning.\n",
      "  age_bins_df = titanic_data.groupby('AgeBins')['Survived'].agg(['mean', 'count', 'sum'])\n"
     ]
    }
   ],
   "execution_count": 33
  },
  {
   "cell_type": "code",
   "source": [
    "print(age_bins_df)"
   ],
   "metadata": {
    "collapsed": false,
    "ExecuteTime": {
     "end_time": "2024-04-18T08:46:09.344393Z",
     "start_time": "2024-04-18T08:46:09.336072Z"
    }
   },
   "id": "528063e9466d4713",
   "outputs": [
    {
     "name": "stdout",
     "output_type": "stream",
     "text": [
      "             mean  count  sum\n",
      "AgeBins                      \n",
      "1-10     0.593750     64   38\n",
      "11-20    0.382609    115   44\n",
      "21-30    0.365217    230   84\n",
      "31-40    0.445161    155   69\n",
      "41-50    0.383721     86   33\n",
      "51-60    0.404762     42   17\n",
      "61-70    0.235294     17    4\n",
      "71-80    0.200000      5    1\n",
      "81-90         NaN      0    0\n"
     ]
    }
   ],
   "execution_count": 34
  },
  {
   "cell_type": "code",
   "source": [
    "deceased = titanic_data[titanic_data['Survived'] == 0]['Age']\n",
    "survived = titanic_data[titanic_data['Survived'] == 1]['Age']"
   ],
   "metadata": {
    "collapsed": false,
    "ExecuteTime": {
     "end_time": "2024-04-18T08:46:09.356693Z",
     "start_time": "2024-04-18T08:46:09.345422Z"
    }
   },
   "id": "c9eee12779de39f5",
   "outputs": [],
   "execution_count": 35
  },
  {
   "cell_type": "code",
   "source": [
    "fig_survived, ax_survived = plt.subplots()\n",
    "\n",
    "plt.hist([survived, deceased],\n",
    "         bins=8,\n",
    "         stacked=True,\n",
    "         color=['#00FFFF', '#3D3DD7'],\n",
    "         ec='white',\n",
    "         lw=1,\n",
    "         )\n",
    "\n",
    "ax_survived.set_facecolor('#929191')\n",
    "fig_survived.set_facecolor('#929191')\n",
    "\n",
    "ax_survived.tick_params(axis='x', color='#929191')\n",
    "ax_survived.tick_params(axis='y', color='#929191')\n",
    "\n",
    "ax_survived.set_xlabel('Alter')\n",
    "ax_survived.set_ylabel('Anzahl der Passagiere')\n",
    "\n",
    "ax_survived.set_xlabel('Alter', \n",
    "                       fontsize=14,\n",
    "                       )\n",
    "ax_survived.set_ylabel('Anzahl der Passagiere', \n",
    "                       fontsize=14,\n",
    "                       )\n",
    "\n",
    "plt.title('Altersverteilung nach Überlebenden und Verstorbenen', \n",
    "          color='black', \n",
    "          fontsize=14, \n",
    "          pad=30,\n",
    "          loc='left',\n",
    "          x=-0.05,\n",
    "          fontweight='bold',\n",
    "          )\n",
    "\n",
    "plt.legend(['Überlebende', 'Verstorbene'])\n",
    "\n",
    "plt.show()"
   ],
   "metadata": {
    "collapsed": false,
    "ExecuteTime": {
     "end_time": "2024-04-18T08:46:10.053864Z",
     "start_time": "2024-04-18T08:46:09.415904Z"
    }
   },
   "id": "1241e4161e48a345",
   "outputs": [
    {
     "data": {
      "text/plain": [
       "<Figure size 640x480 with 1 Axes>"
      ],
      "image/png": "[encoded data removed]"
     },
     "metadata": {},
     "output_type": "display_data"
    }
   ],
   "execution_count": 36
  },
  {
   "cell_type": "markdown",
   "source": [
    "## 4.5 Überlebensrate von Passagieren mit Angehörigen"
   ],
   "metadata": {
    "collapsed": false
   },
   "id": "8add358e1b631228"
  },
  {
   "cell_type": "markdown",
   "source": [
    "### 4.5.1 verheiratete und unverheiratete Frauen"
   ],
   "metadata": {
    "collapsed": false
   },
   "id": "4d47d9bbe5b72d78"
  },
  {
   "cell_type": "code",
   "source": [
    "titanic_data[(titanic_data['Address'].str.contains('Mrs')) | (titanic_data['Address'].str.contains('Miss'))]"
   ],
   "metadata": {
    "collapsed": false,
    "ExecuteTime": {
     "end_time": "2024-04-18T08:46:10.099484Z",
     "start_time": "2024-04-18T08:46:10.055380Z"
    }
   },
   "id": "afa61a54ce9a11e8",
   "outputs": [
    {
     "data": {
      "text/plain": [
       "     PassengerId  Survived  Pclass Address                       Name  \\\n",
       "1              2         1       1     Mrs              John Bradley    \n",
       "2              3         1       3    Miss                      Laina   \n",
       "3              4         1       1     Mrs             Jacques Heath    \n",
       "8              9         1       3     Mrs                   Oscar W    \n",
       "9             10         1       2     Mrs                  Nicholas    \n",
       "..           ...       ...     ...     ...                        ...   \n",
       "880          881         1       2     Mrs                   William    \n",
       "882          883         0       3    Miss               Gerda Ulrika   \n",
       "885          886         0       3     Mrs                   William    \n",
       "887          888         1       1    Miss             Margaret Edith   \n",
       "888          889         0       3    Miss   Catherine Helen \"Carrie\"   \n",
       "\n",
       "                   Maiden Name    Surname     Sex   Age  SibSp  Parch  \\\n",
       "1       Florence Briggs Thayer    Cumings  female  38.0      1      0   \n",
       "2                          NaN  Heikkinen  female  26.0      0      0   \n",
       "3                Lily May Peel   Futrelle  female  35.0      1      0   \n",
       "8    Elisabeth Vilhelmina Berg    Johnson  female  27.0      0      2   \n",
       "9                  Adele Achem     Nasser  female  14.0      1      0   \n",
       "..                         ...        ...     ...   ...    ...    ...   \n",
       "880       Imanita Parrish Hall    Shelley  female  25.0      0      1   \n",
       "882                        NaN   Dahlberg  female  22.0      0      0   \n",
       "885            Margaret Norton       Rice  female  39.0      0      5   \n",
       "887                        NaN     Graham  female  19.0      0      0   \n",
       "888                        NaN   Johnston  female   NaN      1      2   \n",
       "\n",
       "               Ticket     Fare Cabin Embarked  Fam Cabin_Loc AgeBins  \n",
       "1            PC 17599  71.2833   C85        C    1         C   31-40  \n",
       "2    STON/O2. 3101282   7.9250   NaN        S    0         N   21-30  \n",
       "3              113803  53.1000  C123        S    1         C   31-40  \n",
       "8              347742  11.1333   NaN        S    2         N   21-30  \n",
       "9              237736  30.0708   NaN        C    1         N   11-20  \n",
       "..                ...      ...   ...      ...  ...       ...     ...  \n",
       "880            230433  26.0000   NaN        S    1         N   21-30  \n",
       "882              7552  10.5167   NaN        S    0         N   21-30  \n",
       "885            382652  29.1250   NaN        Q    5         N   31-40  \n",
       "887            112053  30.0000   B42        S    0         B   11-20  \n",
       "888        W./C. 6607  23.4500   NaN        S    3         N     NaN  \n",
       "\n",
       "[307 rows x 18 columns]"
      ],
      "text/html": [
       "<div>\n",
       "<style scoped>\n",
       "    .dataframe tbody tr th:only-of-type {\n",
       "        vertical-align: middle;\n",
       "    }\n",
       "\n",
       "    .dataframe tbody tr th {\n",
       "        vertical-align: top;\n",
       "    }\n",
       "\n",
       "    .dataframe thead th {\n",
       "        text-align: right;\n",
       "    }\n",
       "</style>\n",
       "<table border=\"1\" class=\"dataframe\">\n",
       "  <thead>\n",
       "    <tr style=\"text-align: right;\">\n",
       "      <th></th>\n",
       "      <th>PassengerId</th>\n",
       "      <th>Survived</th>\n",
       "      <th>Pclass</th>\n",
       "      <th>Address</th>\n",
       "      <th>Name</th>\n",
       "      <th>Maiden Name</th>\n",
       "      <th>Surname</th>\n",
       "      <th>Sex</th>\n",
       "      <th>Age</th>\n",
       "      <th>SibSp</th>\n",
       "      <th>Parch</th>\n",
       "      <th>Ticket</th>\n",
       "      <th>Fare</th>\n",
       "      <th>Cabin</th>\n",
       "      <th>Embarked</th>\n",
       "      <th>Fam</th>\n",
       "      <th>Cabin_Loc</th>\n",
       "      <th>AgeBins</th>\n",
       "    </tr>\n",
       "  </thead>\n",
       "  <tbody>\n",
       "    <tr>\n",
       "      <th>1</th>\n",
       "      <td>2</td>\n",
       "      <td>1</td>\n",
       "      <td>1</td>\n",
       "      <td>Mrs</td>\n",
       "      <td>John Bradley</td>\n",
       "      <td>Florence Briggs Thayer</td>\n",
       "      <td>Cumings</td>\n",
       "      <td>female</td>\n",
       "      <td>38.0</td>\n",
       "      <td>1</td>\n",
       "      <td>0</td>\n",
       "      <td>PC 17599</td>\n",
       "      <td>71.2833</td>\n",
       "      <td>C85</td>\n",
       "      <td>C</td>\n",
       "      <td>1</td>\n",
       "      <td>C</td>\n",
       "      <td>31-40</td>\n",
       "    </tr>\n",
       "    <tr>\n",
       "      <th>2</th>\n",
       "      <td>3</td>\n",
       "      <td>1</td>\n",
       "      <td>3</td>\n",
       "      <td>Miss</td>\n",
       "      <td>Laina</td>\n",
       "      <td>NaN</td>\n",
       "      <td>Heikkinen</td>\n",
       "      <td>female</td>\n",
       "      <td>26.0</td>\n",
       "      <td>0</td>\n",
       "      <td>0</td>\n",
       "      <td>STON/O2. 3101282</td>\n",
       "      <td>7.9250</td>\n",
       "      <td>NaN</td>\n",
       "      <td>S</td>\n",
       "      <td>0</td>\n",
       "      <td>N</td>\n",
       "      <td>21-30</td>\n",
       "    </tr>\n",
       "    <tr>\n",
       "      <th>3</th>\n",
       "      <td>4</td>\n",
       "      <td>1</td>\n",
       "      <td>1</td>\n",
       "      <td>Mrs</td>\n",
       "      <td>Jacques Heath</td>\n",
       "      <td>Lily May Peel</td>\n",
       "      <td>Futrelle</td>\n",
       "      <td>female</td>\n",
       "      <td>35.0</td>\n",
       "      <td>1</td>\n",
       "      <td>0</td>\n",
       "      <td>113803</td>\n",
       "      <td>53.1000</td>\n",
       "      <td>C123</td>\n",
       "      <td>S</td>\n",
       "      <td>1</td>\n",
       "      <td>C</td>\n",
       "      <td>31-40</td>\n",
       "    </tr>\n",
       "    <tr>\n",
       "      <th>8</th>\n",
       "      <td>9</td>\n",
       "      <td>1</td>\n",
       "      <td>3</td>\n",
       "      <td>Mrs</td>\n",
       "      <td>Oscar W</td>\n",
       "      <td>Elisabeth Vilhelmina Berg</td>\n",
       "      <td>Johnson</td>\n",
       "      <td>female</td>\n",
       "      <td>27.0</td>\n",
       "      <td>0</td>\n",
       "      <td>2</td>\n",
       "      <td>347742</td>\n",
       "      <td>11.1333</td>\n",
       "      <td>NaN</td>\n",
       "      <td>S</td>\n",
       "      <td>2</td>\n",
       "      <td>N</td>\n",
       "      <td>21-30</td>\n",
       "    </tr>\n",
       "    <tr>\n",
       "      <th>9</th>\n",
       "      <td>10</td>\n",
       "      <td>1</td>\n",
       "      <td>2</td>\n",
       "      <td>Mrs</td>\n",
       "      <td>Nicholas</td>\n",
       "      <td>Adele Achem</td>\n",
       "      <td>Nasser</td>\n",
       "      <td>female</td>\n",
       "      <td>14.0</td>\n",
       "      <td>1</td>\n",
       "      <td>0</td>\n",
       "      <td>237736</td>\n",
       "      <td>30.0708</td>\n",
       "      <td>NaN</td>\n",
       "      <td>C</td>\n",
       "      <td>1</td>\n",
       "      <td>N</td>\n",
       "      <td>11-20</td>\n",
       "    </tr>\n",
       "    <tr>\n",
       "      <th>...</th>\n",
       "      <td>...</td>\n",
       "      <td>...</td>\n",
       "      <td>...</td>\n",
       "      <td>...</td>\n",
       "      <td>...</td>\n",
       "      <td>...</td>\n",
       "      <td>...</td>\n",
       "      <td>...</td>\n",
       "      <td>...</td>\n",
       "      <td>...</td>\n",
       "      <td>...</td>\n",
       "      <td>...</td>\n",
       "      <td>...</td>\n",
       "      <td>...</td>\n",
       "      <td>...</td>\n",
       "      <td>...</td>\n",
       "      <td>...</td>\n",
       "      <td>...</td>\n",
       "    </tr>\n",
       "    <tr>\n",
       "      <th>880</th>\n",
       "      <td>881</td>\n",
       "      <td>1</td>\n",
       "      <td>2</td>\n",
       "      <td>Mrs</td>\n",
       "      <td>William</td>\n",
       "      <td>Imanita Parrish Hall</td>\n",
       "      <td>Shelley</td>\n",
       "      <td>female</td>\n",
       "      <td>25.0</td>\n",
       "      <td>0</td>\n",
       "      <td>1</td>\n",
       "      <td>230433</td>\n",
       "      <td>26.0000</td>\n",
       "      <td>NaN</td>\n",
       "      <td>S</td>\n",
       "      <td>1</td>\n",
       "      <td>N</td>\n",
       "      <td>21-30</td>\n",
       "    </tr>\n",
       "    <tr>\n",
       "      <th>882</th>\n",
       "      <td>883</td>\n",
       "      <td>0</td>\n",
       "      <td>3</td>\n",
       "      <td>Miss</td>\n",
       "      <td>Gerda Ulrika</td>\n",
       "      <td>NaN</td>\n",
       "      <td>Dahlberg</td>\n",
       "      <td>female</td>\n",
       "      <td>22.0</td>\n",
       "      <td>0</td>\n",
       "      <td>0</td>\n",
       "      <td>7552</td>\n",
       "      <td>10.5167</td>\n",
       "      <td>NaN</td>\n",
       "      <td>S</td>\n",
       "      <td>0</td>\n",
       "      <td>N</td>\n",
       "      <td>21-30</td>\n",
       "    </tr>\n",
       "    <tr>\n",
       "      <th>885</th>\n",
       "      <td>886</td>\n",
       "      <td>0</td>\n",
       "      <td>3</td>\n",
       "      <td>Mrs</td>\n",
       "      <td>William</td>\n",
       "      <td>Margaret Norton</td>\n",
       "      <td>Rice</td>\n",
       "      <td>female</td>\n",
       "      <td>39.0</td>\n",
       "      <td>0</td>\n",
       "      <td>5</td>\n",
       "      <td>382652</td>\n",
       "      <td>29.1250</td>\n",
       "      <td>NaN</td>\n",
       "      <td>Q</td>\n",
       "      <td>5</td>\n",
       "      <td>N</td>\n",
       "      <td>31-40</td>\n",
       "    </tr>\n",
       "    <tr>\n",
       "      <th>887</th>\n",
       "      <td>888</td>\n",
       "      <td>1</td>\n",
       "      <td>1</td>\n",
       "      <td>Miss</td>\n",
       "      <td>Margaret Edith</td>\n",
       "      <td>NaN</td>\n",
       "      <td>Graham</td>\n",
       "      <td>female</td>\n",
       "      <td>19.0</td>\n",
       "      <td>0</td>\n",
       "      <td>0</td>\n",
       "      <td>112053</td>\n",
       "      <td>30.0000</td>\n",
       "      <td>B42</td>\n",
       "      <td>S</td>\n",
       "      <td>0</td>\n",
       "      <td>B</td>\n",
       "      <td>11-20</td>\n",
       "    </tr>\n",
       "    <tr>\n",
       "      <th>888</th>\n",
       "      <td>889</td>\n",
       "      <td>0</td>\n",
       "      <td>3</td>\n",
       "      <td>Miss</td>\n",
       "      <td>Catherine Helen \"Carrie\"</td>\n",
       "      <td>NaN</td>\n",
       "      <td>Johnston</td>\n",
       "      <td>female</td>\n",
       "      <td>NaN</td>\n",
       "      <td>1</td>\n",
       "      <td>2</td>\n",
       "      <td>W./C. 6607</td>\n",
       "      <td>23.4500</td>\n",
       "      <td>NaN</td>\n",
       "      <td>S</td>\n",
       "      <td>3</td>\n",
       "      <td>N</td>\n",
       "      <td>NaN</td>\n",
       "    </tr>\n",
       "  </tbody>\n",
       "</table>\n",
       "<p>307 rows × 18 columns</p>\n",
       "</div>"
      ]
     },
     "execution_count": 37,
     "metadata": {},
     "output_type": "execute_result"
    }
   ],
   "execution_count": 37
  },
  {
   "cell_type": "code",
   "source": [
    "married = titanic_data[(titanic_data['Address'].str.contains('Mrs')) | (titanic_data['Address'].str.contains('Miss'))]\n",
    "survived_by_married = married.groupby('Address')['Survived'].mean()\n",
    "\n",
    "married_fig, married_ax = plt.subplots()\n",
    "\n",
    "survived_by_married.plot(kind='pie',\n",
    "                         labels= ['ledig', 'verheiratet'],\n",
    "                         explode=(0, 0),\n",
    "                         autopct='%1.1f%%',\n",
    "                         startangle=275,\n",
    "                         cmap='Set2',\n",
    "                         ylabel= '',\n",
    "                         )\n",
    "\n",
    "married_fig.patch.set_facecolor('#929191')\n",
    "\n",
    "married_ax.set_title('Überlebensrate nach Ehestand',\n",
    "             fontsize=14,\n",
    "             color='black',\n",
    "             fontweight='bold',\n",
    "             loc='left',\n",
    "             x=0.05,\n",
    "             )\n",
    "\n",
    "plt.show()\n",
    "print(f'{survived_by_married}')"
   ],
   "metadata": {
    "collapsed": false,
    "ExecuteTime": {
     "end_time": "2024-04-18T08:46:10.479178Z",
     "start_time": "2024-04-18T08:46:10.225768Z"
    }
   },
   "id": "60c042686487e7f2",
   "outputs": [
    {
     "data": {
      "text/plain": [
       "<Figure size 640x480 with 1 Axes>"
      ],
      "image/png": "[encoded data removed]"
     },
     "metadata": {},
     "output_type": "display_data"
    },
    {
     "name": "stdout",
     "output_type": "stream",
     "text": [
      "Address\n",
      "Miss    0.697802\n",
      "Mrs     0.792000\n",
      "Name: Survived, dtype: float64\n"
     ]
    }
   ],
   "execution_count": 38
  },
  {
   "cell_type": "markdown",
   "source": [
    "### 4.5.2 Überlebensrate von Passagieren mit Geschwistern/Ehepartnern an Bord"
   ],
   "metadata": {
    "collapsed": false
   },
   "id": "4359b13e3b33ab6"
  },
  {
   "cell_type": "code",
   "source": [
    "survived_with_siblings_spouse = titanic_data.groupby('SibSp')['Survived'].mean()"
   ],
   "metadata": {
    "collapsed": false,
    "ExecuteTime": {
     "end_time": "2024-04-18T08:46:10.575526Z",
     "start_time": "2024-04-18T08:46:10.565485Z"
    }
   },
   "id": "a9ec8ff7558072",
   "outputs": [],
   "execution_count": 39
  },
  {
   "cell_type": "code",
   "source": [
    "survived_with_siblings_spouse = survived_with_siblings_spouse.drop([5, 8], axis=0)"
   ],
   "metadata": {
    "collapsed": false,
    "ExecuteTime": {
     "end_time": "2024-04-18T08:46:10.972217Z",
     "start_time": "2024-04-18T08:46:10.965481Z"
    }
   },
   "id": "3e0619944a776fc0",
   "outputs": [],
   "execution_count": 40
  },
  {
   "cell_type": "code",
   "source": [
    "sibsp_fig, sibsp_ax = plt.subplots()\n",
    "\n",
    "survived_with_siblings_spouse.plot(kind='pie',\n",
    "                                   autopct='%1.1f%%',\n",
    "                                   startangle=10,\n",
    "                                   cmap='Set2',\n",
    "                                   ylabel='',\n",
    "                                   )\n",
    "\n",
    "sibsp_fig.patch.set_facecolor('#929191')\n",
    "\n",
    "sibsp_ax.set_title('Überlebensrate mit Anzahl von Geschwistern/\\nEhepartner', \n",
    "             fontsize=14,\n",
    "             color='black',\n",
    "             fontweight='bold',\n",
    "             )\n",
    "\n",
    "plt.show()\n",
    "print(f'{survived_with_siblings_spouse}')"
   ],
   "metadata": {
    "collapsed": false,
    "ExecuteTime": {
     "end_time": "2024-04-18T08:46:11.485557Z",
     "start_time": "2024-04-18T08:46:11.325807Z"
    }
   },
   "id": "d6b0d03a097048bc",
   "outputs": [
    {
     "data": {
      "text/plain": [
       "<Figure size 640x480 with 1 Axes>"
      ],
      "image/png": "[encoded data removed]"
     },
     "metadata": {},
     "output_type": "display_data"
    },
    {
     "name": "stdout",
     "output_type": "stream",
     "text": [
      "SibSp\n",
      "0    0.345395\n",
      "1    0.535885\n",
      "2    0.464286\n",
      "3    0.250000\n",
      "4    0.166667\n",
      "Name: Survived, dtype: float64\n"
     ]
    }
   ],
   "execution_count": 41
  },
  {
   "cell_type": "code",
   "source": [
    "survival_with_siblings_spouse = titanic_data.groupby('SibSp')['Survived'].mean()\n",
    "\n",
    "sibsp_fig, sibsp_ax = plt.subplots()\n",
    "\n",
    "survival_with_siblings_spouse_plot = survival_with_siblings_spouse.plot(kind='bar',\n",
    "                                                                        color='#00FFFF',\n",
    "                                                                        ec='black',\n",
    "                                                                        lw=1,\n",
    "                                                                        fontsize=12,\n",
    "                                                                        rot=0,\n",
    "                                                                        )\n",
    "\n",
    "sibsp_fig.patch.set_facecolor('#929191')\n",
    "survival_with_siblings_spouse_plot.set_facecolor('#929191')\n",
    "\n",
    "survival_with_siblings_spouse_plot.set_xlabel('Anzahl der Geschwister/Ehepartner',fontsize=14)\n",
    "\n",
    "survival_with_siblings_spouse_plot.set_ylabel('Überlebensrate', fontsize=14)\n",
    "\n",
    "sibsp_ax.set_title('Überlebensrate mit Geschwistern/Ehepartner',\n",
    "                                             fontsize=15,\n",
    "                                             pad=30,\n",
    "                                             color='black',\n",
    "                                             fontweight='bold',\n",
    "                                             loc='left',\n",
    "                                             x= -0.01)\n",
    "\n",
    "plt.show()"
   ],
   "metadata": {
    "collapsed": false,
    "ExecuteTime": {
     "end_time": "2024-04-18T08:46:11.949022Z",
     "start_time": "2024-04-18T08:46:11.575616Z"
    }
   },
   "id": "64091ce2b4a45b50",
   "outputs": [
    {
     "data": {
      "text/plain": [
       "<Figure size 640x480 with 1 Axes>"
      ],
      "image/png": "[encoded data removed]"
     },
     "metadata": {},
     "output_type": "display_data"
    }
   ],
   "execution_count": 42
  },
  {
   "cell_type": "markdown",
   "source": [
    "### 4.5.3 Überlebensrate von Passagieren mit Familienangehörigen an Bord"
   ],
   "metadata": {
    "collapsed": false
   },
   "id": "25928b9ded005868"
  },
  {
   "cell_type": "code",
   "source": [
    "survival_with_fam = titanic_data.groupby('Fam')['Survived']\n",
    "survival_with_fam.agg(['mean', 'count', 'sum'])"
   ],
   "metadata": {
    "collapsed": false,
    "ExecuteTime": {
     "end_time": "2024-04-18T08:46:11.966438Z",
     "start_time": "2024-04-18T08:46:11.949022Z"
    }
   },
   "id": "ffcaf500d038f697",
   "outputs": [
    {
     "data": {
      "text/plain": [
       "         mean  count  sum\n",
       "Fam                      \n",
       "0    0.303538    537  163\n",
       "1    0.552795    161   89\n",
       "2    0.578431    102   59\n",
       "3    0.724138     29   21\n",
       "4    0.200000     15    3\n",
       "5    0.136364     22    3\n",
       "6    0.333333     12    4\n",
       "7    0.000000      6    0\n",
       "10   0.000000      7    0"
      ],
      "text/html": [
       "<div>\n",
       "<style scoped>\n",
       "    .dataframe tbody tr th:only-of-type {\n",
       "        vertical-align: middle;\n",
       "    }\n",
       "\n",
       "    .dataframe tbody tr th {\n",
       "        vertical-align: top;\n",
       "    }\n",
       "\n",
       "    .dataframe thead th {\n",
       "        text-align: right;\n",
       "    }\n",
       "</style>\n",
       "<table border=\"1\" class=\"dataframe\">\n",
       "  <thead>\n",
       "    <tr style=\"text-align: right;\">\n",
       "      <th></th>\n",
       "      <th>mean</th>\n",
       "      <th>count</th>\n",
       "      <th>sum</th>\n",
       "    </tr>\n",
       "    <tr>\n",
       "      <th>Fam</th>\n",
       "      <th></th>\n",
       "      <th></th>\n",
       "      <th></th>\n",
       "    </tr>\n",
       "  </thead>\n",
       "  <tbody>\n",
       "    <tr>\n",
       "      <th>0</th>\n",
       "      <td>0.303538</td>\n",
       "      <td>537</td>\n",
       "      <td>163</td>\n",
       "    </tr>\n",
       "    <tr>\n",
       "      <th>1</th>\n",
       "      <td>0.552795</td>\n",
       "      <td>161</td>\n",
       "      <td>89</td>\n",
       "    </tr>\n",
       "    <tr>\n",
       "      <th>2</th>\n",
       "      <td>0.578431</td>\n",
       "      <td>102</td>\n",
       "      <td>59</td>\n",
       "    </tr>\n",
       "    <tr>\n",
       "      <th>3</th>\n",
       "      <td>0.724138</td>\n",
       "      <td>29</td>\n",
       "      <td>21</td>\n",
       "    </tr>\n",
       "    <tr>\n",
       "      <th>4</th>\n",
       "      <td>0.200000</td>\n",
       "      <td>15</td>\n",
       "      <td>3</td>\n",
       "    </tr>\n",
       "    <tr>\n",
       "      <th>5</th>\n",
       "      <td>0.136364</td>\n",
       "      <td>22</td>\n",
       "      <td>3</td>\n",
       "    </tr>\n",
       "    <tr>\n",
       "      <th>6</th>\n",
       "      <td>0.333333</td>\n",
       "      <td>12</td>\n",
       "      <td>4</td>\n",
       "    </tr>\n",
       "    <tr>\n",
       "      <th>7</th>\n",
       "      <td>0.000000</td>\n",
       "      <td>6</td>\n",
       "      <td>0</td>\n",
       "    </tr>\n",
       "    <tr>\n",
       "      <th>10</th>\n",
       "      <td>0.000000</td>\n",
       "      <td>7</td>\n",
       "      <td>0</td>\n",
       "    </tr>\n",
       "  </tbody>\n",
       "</table>\n",
       "</div>"
      ]
     },
     "execution_count": 43,
     "metadata": {},
     "output_type": "execute_result"
    }
   ],
   "execution_count": 43
  },
  {
   "cell_type": "code",
   "source": [
    "survival_with_fam = titanic_data.groupby('Fam')['Survived'].mean()\n",
    "\n",
    "fig, ax = plt.subplots()\n",
    "\n",
    "survived_with_fam_plot = survival_with_fam.plot(kind='bar',\n",
    "                                               color='#00FFFF',\n",
    "                                               ec='black',\n",
    "                                               lw=1,\n",
    "                                               rot=0,\n",
    "                                               ax=ax\n",
    "                                               )\n",
    "\n",
    "fig.patch.set_facecolor('#929191')\n",
    "ax.set_facecolor('#929191')\n",
    "\n",
    "ax.set_xlabel('Anzahl der Familienmitglieder', \n",
    "              fontsize=12\n",
    "              )\n",
    "ax.set_ylabel('Überlebensrate', \n",
    "              fontsize=12\n",
    "              )\n",
    "\n",
    "survived_with_fam_plot.set_title('Überlebensrate nach Anzahl der Familienmitglieder',\n",
    "                                fontsize=14,\n",
    "                                pad=30,\n",
    "                                color='black', \n",
    "                                fontweight='bold',\n",
    "                                loc='left',\n",
    "                                x= -0.01\n",
    "                                )\n",
    "\n",
    "plt.show()\n",
    "\n",
    "print(f'{survival_with_fam}')"
   ],
   "metadata": {
    "collapsed": false,
    "ExecuteTime": {
     "end_time": "2024-04-18T08:46:12.396709Z",
     "start_time": "2024-04-18T08:46:11.966438Z"
    }
   },
   "id": "4e2d49f198baf50d",
   "outputs": [
    {
     "data": {
      "text/plain": [
       "<Figure size 640x480 with 1 Axes>"
      ],
      "image/png": "[encoded data removed]"
     },
     "metadata": {},
     "output_type": "display_data"
    },
    {
     "name": "stdout",
     "output_type": "stream",
     "text": [
      "Fam\n",
      "0     0.303538\n",
      "1     0.552795\n",
      "2     0.578431\n",
      "3     0.724138\n",
      "4     0.200000\n",
      "5     0.136364\n",
      "6     0.333333\n",
      "7     0.000000\n",
      "10    0.000000\n",
      "Name: Survived, dtype: float64\n"
     ]
    }
   ],
   "execution_count": 44
  },
  {
   "cell_type": "markdown",
   "source": [
    "# 5. Korrelation und Überlebenswahrscheinlichkeit"
   ],
   "metadata": {
    "collapsed": false
   },
   "id": "e987234fb3923520"
  },
  {
   "cell_type": "code",
   "source": [
    "titanic_data.describe()"
   ],
   "metadata": {
    "collapsed": false,
    "ExecuteTime": {
     "end_time": "2024-04-18T08:46:12.439712Z",
     "start_time": "2024-04-18T08:46:12.396709Z"
    }
   },
   "id": "4d53d06cb5210f3",
   "outputs": [
    {
     "data": {
      "text/plain": [
       "       PassengerId    Survived      Pclass         Age       SibSp  \\\n",
       "count   891.000000  891.000000  891.000000  714.000000  891.000000   \n",
       "mean    446.000000    0.383838    2.308642   29.699118    0.523008   \n",
       "std     257.353842    0.486592    0.836071   14.526497    1.102743   \n",
       "min       1.000000    0.000000    1.000000    0.420000    0.000000   \n",
       "25%     223.500000    0.000000    2.000000   20.125000    0.000000   \n",
       "50%     446.000000    0.000000    3.000000   28.000000    0.000000   \n",
       "75%     668.500000    1.000000    3.000000   38.000000    1.000000   \n",
       "max     891.000000    1.000000    3.000000   80.000000    8.000000   \n",
       "\n",
       "            Parch        Fare         Fam  \n",
       "count  891.000000  891.000000  891.000000  \n",
       "mean     0.381594   32.204208    0.904602  \n",
       "std      0.806057   49.693429    1.613459  \n",
       "min      0.000000    0.000000    0.000000  \n",
       "25%      0.000000    7.910400    0.000000  \n",
       "50%      0.000000   14.454200    0.000000  \n",
       "75%      0.000000   31.000000    1.000000  \n",
       "max      6.000000  512.329200   10.000000  "
      ],
      "text/html": [
       "<div>\n",
       "<style scoped>\n",
       "    .dataframe tbody tr th:only-of-type {\n",
       "        vertical-align: middle;\n",
       "    }\n",
       "\n",
       "    .dataframe tbody tr th {\n",
       "        vertical-align: top;\n",
       "    }\n",
       "\n",
       "    .dataframe thead th {\n",
       "        text-align: right;\n",
       "    }\n",
       "</style>\n",
       "<table border=\"1\" class=\"dataframe\">\n",
       "  <thead>\n",
       "    <tr style=\"text-align: right;\">\n",
       "      <th></th>\n",
       "      <th>PassengerId</th>\n",
       "      <th>Survived</th>\n",
       "      <th>Pclass</th>\n",
       "      <th>Age</th>\n",
       "      <th>SibSp</th>\n",
       "      <th>Parch</th>\n",
       "      <th>Fare</th>\n",
       "      <th>Fam</th>\n",
       "    </tr>\n",
       "  </thead>\n",
       "  <tbody>\n",
       "    <tr>\n",
       "      <th>count</th>\n",
       "      <td>891.000000</td>\n",
       "      <td>891.000000</td>\n",
       "      <td>891.000000</td>\n",
       "      <td>714.000000</td>\n",
       "      <td>891.000000</td>\n",
       "      <td>891.000000</td>\n",
       "      <td>891.000000</td>\n",
       "      <td>891.000000</td>\n",
       "    </tr>\n",
       "    <tr>\n",
       "      <th>mean</th>\n",
       "      <td>446.000000</td>\n",
       "      <td>0.383838</td>\n",
       "      <td>2.308642</td>\n",
       "      <td>29.699118</td>\n",
       "      <td>0.523008</td>\n",
       "      <td>0.381594</td>\n",
       "      <td>32.204208</td>\n",
       "      <td>0.904602</td>\n",
       "    </tr>\n",
       "    <tr>\n",
       "      <th>std</th>\n",
       "      <td>257.353842</td>\n",
       "      <td>0.486592</td>\n",
       "      <td>0.836071</td>\n",
       "      <td>14.526497</td>\n",
       "      <td>1.102743</td>\n",
       "      <td>0.806057</td>\n",
       "      <td>49.693429</td>\n",
       "      <td>1.613459</td>\n",
       "    </tr>\n",
       "    <tr>\n",
       "      <th>min</th>\n",
       "      <td>1.000000</td>\n",
       "      <td>0.000000</td>\n",
       "      <td>1.000000</td>\n",
       "      <td>0.420000</td>\n",
       "      <td>0.000000</td>\n",
       "      <td>0.000000</td>\n",
       "      <td>0.000000</td>\n",
       "      <td>0.000000</td>\n",
       "    </tr>\n",
       "    <tr>\n",
       "      <th>25%</th>\n",
       "      <td>223.500000</td>\n",
       "      <td>0.000000</td>\n",
       "      <td>2.000000</td>\n",
       "      <td>20.125000</td>\n",
       "      <td>0.000000</td>\n",
       "      <td>0.000000</td>\n",
       "      <td>7.910400</td>\n",
       "      <td>0.000000</td>\n",
       "    </tr>\n",
       "    <tr>\n",
       "      <th>50%</th>\n",
       "      <td>446.000000</td>\n",
       "      <td>0.000000</td>\n",
       "      <td>3.000000</td>\n",
       "      <td>28.000000</td>\n",
       "      <td>0.000000</td>\n",
       "      <td>0.000000</td>\n",
       "      <td>14.454200</td>\n",
       "      <td>0.000000</td>\n",
       "    </tr>\n",
       "    <tr>\n",
       "      <th>75%</th>\n",
       "      <td>668.500000</td>\n",
       "      <td>1.000000</td>\n",
       "      <td>3.000000</td>\n",
       "      <td>38.000000</td>\n",
       "      <td>1.000000</td>\n",
       "      <td>0.000000</td>\n",
       "      <td>31.000000</td>\n",
       "      <td>1.000000</td>\n",
       "    </tr>\n",
       "    <tr>\n",
       "      <th>max</th>\n",
       "      <td>891.000000</td>\n",
       "      <td>1.000000</td>\n",
       "      <td>3.000000</td>\n",
       "      <td>80.000000</td>\n",
       "      <td>8.000000</td>\n",
       "      <td>6.000000</td>\n",
       "      <td>512.329200</td>\n",
       "      <td>10.000000</td>\n",
       "    </tr>\n",
       "  </tbody>\n",
       "</table>\n",
       "</div>"
      ]
     },
     "execution_count": 45,
     "metadata": {},
     "output_type": "execute_result"
    }
   ],
   "execution_count": 45
  },
  {
   "cell_type": "code",
   "source": [
    "corr_mat = titanic_data[['Survived', 'Age', 'SibSp', 'Parch', 'Fam', 'Pclass', 'Fare', 'Sex']]\n",
    "corr_mat\n"
   ],
   "metadata": {
    "collapsed": false,
    "ExecuteTime": {
     "end_time": "2024-04-18T08:46:12.462877Z",
     "start_time": "2024-04-18T08:46:12.441228Z"
    }
   },
   "id": "930de143acbbd7cd",
   "outputs": [
    {
     "data": {
      "text/plain": [
       "     Survived   Age  SibSp  Parch  Fam  Pclass     Fare     Sex\n",
       "0           0  22.0      1      0    1       3   7.2500    male\n",
       "1           1  38.0      1      0    1       1  71.2833  female\n",
       "2           1  26.0      0      0    0       3   7.9250  female\n",
       "3           1  35.0      1      0    1       1  53.1000  female\n",
       "4           0  35.0      0      0    0       3   8.0500    male\n",
       "..        ...   ...    ...    ...  ...     ...      ...     ...\n",
       "886         0  27.0      0      0    0       2  13.0000    male\n",
       "887         1  19.0      0      0    0       1  30.0000  female\n",
       "888         0   NaN      1      2    3       3  23.4500  female\n",
       "889         1  26.0      0      0    0       1  30.0000    male\n",
       "890         0  32.0      0      0    0       3   7.7500    male\n",
       "\n",
       "[891 rows x 8 columns]"
      ],
      "text/html": [
       "<div>\n",
       "<style scoped>\n",
       "    .dataframe tbody tr th:only-of-type {\n",
       "        vertical-align: middle;\n",
       "    }\n",
       "\n",
       "    .dataframe tbody tr th {\n",
       "        vertical-align: top;\n",
       "    }\n",
       "\n",
       "    .dataframe thead th {\n",
       "        text-align: right;\n",
       "    }\n",
       "</style>\n",
       "<table border=\"1\" class=\"dataframe\">\n",
       "  <thead>\n",
       "    <tr style=\"text-align: right;\">\n",
       "      <th></th>\n",
       "      <th>Survived</th>\n",
       "      <th>Age</th>\n",
       "      <th>SibSp</th>\n",
       "      <th>Parch</th>\n",
       "      <th>Fam</th>\n",
       "      <th>Pclass</th>\n",
       "      <th>Fare</th>\n",
       "      <th>Sex</th>\n",
       "    </tr>\n",
       "  </thead>\n",
       "  <tbody>\n",
       "    <tr>\n",
       "      <th>0</th>\n",
       "      <td>0</td>\n",
       "      <td>22.0</td>\n",
       "      <td>1</td>\n",
       "      <td>0</td>\n",
       "      <td>1</td>\n",
       "      <td>3</td>\n",
       "      <td>7.2500</td>\n",
       "      <td>male</td>\n",
       "    </tr>\n",
       "    <tr>\n",
       "      <th>1</th>\n",
       "      <td>1</td>\n",
       "      <td>38.0</td>\n",
       "      <td>1</td>\n",
       "      <td>0</td>\n",
       "      <td>1</td>\n",
       "      <td>1</td>\n",
       "      <td>71.2833</td>\n",
       "      <td>female</td>\n",
       "    </tr>\n",
       "    <tr>\n",
       "      <th>2</th>\n",
       "      <td>1</td>\n",
       "      <td>26.0</td>\n",
       "      <td>0</td>\n",
       "      <td>0</td>\n",
       "      <td>0</td>\n",
       "      <td>3</td>\n",
       "      <td>7.9250</td>\n",
       "      <td>female</td>\n",
       "    </tr>\n",
       "    <tr>\n",
       "      <th>3</th>\n",
       "      <td>1</td>\n",
       "      <td>35.0</td>\n",
       "      <td>1</td>\n",
       "      <td>0</td>\n",
       "      <td>1</td>\n",
       "      <td>1</td>\n",
       "      <td>53.1000</td>\n",
       "      <td>female</td>\n",
       "    </tr>\n",
       "    <tr>\n",
       "      <th>4</th>\n",
       "      <td>0</td>\n",
       "      <td>35.0</td>\n",
       "      <td>0</td>\n",
       "      <td>0</td>\n",
       "      <td>0</td>\n",
       "      <td>3</td>\n",
       "      <td>8.0500</td>\n",
       "      <td>male</td>\n",
       "    </tr>\n",
       "    <tr>\n",
       "      <th>...</th>\n",
       "      <td>...</td>\n",
       "      <td>...</td>\n",
       "      <td>...</td>\n",
       "      <td>...</td>\n",
       "      <td>...</td>\n",
       "      <td>...</td>\n",
       "      <td>...</td>\n",
       "      <td>...</td>\n",
       "    </tr>\n",
       "    <tr>\n",
       "      <th>886</th>\n",
       "      <td>0</td>\n",
       "      <td>27.0</td>\n",
       "      <td>0</td>\n",
       "      <td>0</td>\n",
       "      <td>0</td>\n",
       "      <td>2</td>\n",
       "      <td>13.0000</td>\n",
       "      <td>male</td>\n",
       "    </tr>\n",
       "    <tr>\n",
       "      <th>887</th>\n",
       "      <td>1</td>\n",
       "      <td>19.0</td>\n",
       "      <td>0</td>\n",
       "      <td>0</td>\n",
       "      <td>0</td>\n",
       "      <td>1</td>\n",
       "      <td>30.0000</td>\n",
       "      <td>female</td>\n",
       "    </tr>\n",
       "    <tr>\n",
       "      <th>888</th>\n",
       "      <td>0</td>\n",
       "      <td>NaN</td>\n",
       "      <td>1</td>\n",
       "      <td>2</td>\n",
       "      <td>3</td>\n",
       "      <td>3</td>\n",
       "      <td>23.4500</td>\n",
       "      <td>female</td>\n",
       "    </tr>\n",
       "    <tr>\n",
       "      <th>889</th>\n",
       "      <td>1</td>\n",
       "      <td>26.0</td>\n",
       "      <td>0</td>\n",
       "      <td>0</td>\n",
       "      <td>0</td>\n",
       "      <td>1</td>\n",
       "      <td>30.0000</td>\n",
       "      <td>male</td>\n",
       "    </tr>\n",
       "    <tr>\n",
       "      <th>890</th>\n",
       "      <td>0</td>\n",
       "      <td>32.0</td>\n",
       "      <td>0</td>\n",
       "      <td>0</td>\n",
       "      <td>0</td>\n",
       "      <td>3</td>\n",
       "      <td>7.7500</td>\n",
       "      <td>male</td>\n",
       "    </tr>\n",
       "  </tbody>\n",
       "</table>\n",
       "<p>891 rows × 8 columns</p>\n",
       "</div>"
      ]
     },
     "execution_count": 46,
     "metadata": {},
     "output_type": "execute_result"
    }
   ],
   "execution_count": 46
  },
  {
   "cell_type": "code",
   "source": [
    "corr_mat['Sex'] = corr_mat['Sex'].replace({'male': 1, 'female': 0})"
   ],
   "metadata": {
    "collapsed": false,
    "ExecuteTime": {
     "end_time": "2024-04-18T08:46:12.647759Z",
     "start_time": "2024-04-18T08:46:12.637519Z"
    }
   },
   "id": "d23acd22b4b1fb0d",
   "outputs": [
    {
     "name": "stderr",
     "output_type": "stream",
     "text": [
      "C:\\Users\\Admin\\AppData\\Local\\Temp\\ipykernel_11856\\2457216636.py:1: FutureWarning: Downcasting behavior in `replace` is deprecated and will be removed in a future version. To retain the old behavior, explicitly call `result.infer_objects(copy=False)`. To opt-in to the future behavior, set `pd.set_option('future.no_silent_downcasting', True)`\n",
      "  corr_mat['Sex'] = corr_mat['Sex'].replace({'male': 1, 'female': 0})\n",
      "C:\\Users\\Admin\\AppData\\Local\\Temp\\ipykernel_11856\\2457216636.py:1: SettingWithCopyWarning: \n",
      "A value is trying to be set on a copy of a slice from a DataFrame.\n",
      "Try using .loc[row_indexer,col_indexer] = value instead\n",
      "\n",
      "See the caveats in the documentation: https://pandas.pydata.org/pandas-docs/stable/user_guide/indexing.html#returning-a-view-versus-a-copy\n",
      "  corr_mat['Sex'] = corr_mat['Sex'].replace({'male': 1, 'female': 0})\n"
     ]
    }
   ],
   "execution_count": 47
  },
  {
   "cell_type": "code",
   "source": [
    "corr_mat.corr()"
   ],
   "metadata": {
    "collapsed": false,
    "ExecuteTime": {
     "end_time": "2024-04-18T08:46:12.841069Z",
     "start_time": "2024-04-18T08:46:12.819892Z"
    }
   },
   "id": "bebfe2a4ae8d95a0",
   "outputs": [
    {
     "data": {
      "text/plain": [
       "          Survived       Age     SibSp     Parch       Fam    Pclass  \\\n",
       "Survived  1.000000 -0.077221 -0.035322  0.081629  0.016639 -0.338481   \n",
       "Age      -0.077221  1.000000 -0.308247 -0.189119 -0.301914 -0.369226   \n",
       "SibSp    -0.035322 -0.308247  1.000000  0.414838  0.890712  0.083081   \n",
       "Parch     0.081629 -0.189119  0.414838  1.000000  0.783111  0.018443   \n",
       "Fam       0.016639 -0.301914  0.890712  0.783111  1.000000  0.065997   \n",
       "Pclass   -0.338481 -0.369226  0.083081  0.018443  0.065997  1.000000   \n",
       "Fare      0.257307  0.096067  0.159651  0.216225  0.217138 -0.549500   \n",
       "Sex      -0.543351  0.093254 -0.114631 -0.245489 -0.200988  0.131900   \n",
       "\n",
       "              Fare       Sex  \n",
       "Survived  0.257307 -0.543351  \n",
       "Age       0.096067  0.093254  \n",
       "SibSp     0.159651 -0.114631  \n",
       "Parch     0.216225 -0.245489  \n",
       "Fam       0.217138 -0.200988  \n",
       "Pclass   -0.549500  0.131900  \n",
       "Fare      1.000000 -0.182333  \n",
       "Sex      -0.182333  1.000000  "
      ],
      "text/html": [
       "<div>\n",
       "<style scoped>\n",
       "    .dataframe tbody tr th:only-of-type {\n",
       "        vertical-align: middle;\n",
       "    }\n",
       "\n",
       "    .dataframe tbody tr th {\n",
       "        vertical-align: top;\n",
       "    }\n",
       "\n",
       "    .dataframe thead th {\n",
       "        text-align: right;\n",
       "    }\n",
       "</style>\n",
       "<table border=\"1\" class=\"dataframe\">\n",
       "  <thead>\n",
       "    <tr style=\"text-align: right;\">\n",
       "      <th></th>\n",
       "      <th>Survived</th>\n",
       "      <th>Age</th>\n",
       "      <th>SibSp</th>\n",
       "      <th>Parch</th>\n",
       "      <th>Fam</th>\n",
       "      <th>Pclass</th>\n",
       "      <th>Fare</th>\n",
       "      <th>Sex</th>\n",
       "    </tr>\n",
       "  </thead>\n",
       "  <tbody>\n",
       "    <tr>\n",
       "      <th>Survived</th>\n",
       "      <td>1.000000</td>\n",
       "      <td>-0.077221</td>\n",
       "      <td>-0.035322</td>\n",
       "      <td>0.081629</td>\n",
       "      <td>0.016639</td>\n",
       "      <td>-0.338481</td>\n",
       "      <td>0.257307</td>\n",
       "      <td>-0.543351</td>\n",
       "    </tr>\n",
       "    <tr>\n",
       "      <th>Age</th>\n",
       "      <td>-0.077221</td>\n",
       "      <td>1.000000</td>\n",
       "      <td>-0.308247</td>\n",
       "      <td>-0.189119</td>\n",
       "      <td>-0.301914</td>\n",
       "      <td>-0.369226</td>\n",
       "      <td>0.096067</td>\n",
       "      <td>0.093254</td>\n",
       "    </tr>\n",
       "    <tr>\n",
       "      <th>SibSp</th>\n",
       "      <td>-0.035322</td>\n",
       "      <td>-0.308247</td>\n",
       "      <td>1.000000</td>\n",
       "      <td>0.414838</td>\n",
       "      <td>0.890712</td>\n",
       "      <td>0.083081</td>\n",
       "      <td>0.159651</td>\n",
       "      <td>-0.114631</td>\n",
       "    </tr>\n",
       "    <tr>\n",
       "      <th>Parch</th>\n",
       "      <td>0.081629</td>\n",
       "      <td>-0.189119</td>\n",
       "      <td>0.414838</td>\n",
       "      <td>1.000000</td>\n",
       "      <td>0.783111</td>\n",
       "      <td>0.018443</td>\n",
       "      <td>0.216225</td>\n",
       "      <td>-0.245489</td>\n",
       "    </tr>\n",
       "    <tr>\n",
       "      <th>Fam</th>\n",
       "      <td>0.016639</td>\n",
       "      <td>-0.301914</td>\n",
       "      <td>0.890712</td>\n",
       "      <td>0.783111</td>\n",
       "      <td>1.000000</td>\n",
       "      <td>0.065997</td>\n",
       "      <td>0.217138</td>\n",
       "      <td>-0.200988</td>\n",
       "    </tr>\n",
       "    <tr>\n",
       "      <th>Pclass</th>\n",
       "      <td>-0.338481</td>\n",
       "      <td>-0.369226</td>\n",
       "      <td>0.083081</td>\n",
       "      <td>0.018443</td>\n",
       "      <td>0.065997</td>\n",
       "      <td>1.000000</td>\n",
       "      <td>-0.549500</td>\n",
       "      <td>0.131900</td>\n",
       "    </tr>\n",
       "    <tr>\n",
       "      <th>Fare</th>\n",
       "      <td>0.257307</td>\n",
       "      <td>0.096067</td>\n",
       "      <td>0.159651</td>\n",
       "      <td>0.216225</td>\n",
       "      <td>0.217138</td>\n",
       "      <td>-0.549500</td>\n",
       "      <td>1.000000</td>\n",
       "      <td>-0.182333</td>\n",
       "    </tr>\n",
       "    <tr>\n",
       "      <th>Sex</th>\n",
       "      <td>-0.543351</td>\n",
       "      <td>0.093254</td>\n",
       "      <td>-0.114631</td>\n",
       "      <td>-0.245489</td>\n",
       "      <td>-0.200988</td>\n",
       "      <td>0.131900</td>\n",
       "      <td>-0.182333</td>\n",
       "      <td>1.000000</td>\n",
       "    </tr>\n",
       "  </tbody>\n",
       "</table>\n",
       "</div>"
      ]
     },
     "execution_count": 48,
     "metadata": {},
     "output_type": "execute_result"
    }
   ],
   "execution_count": 48
  },
  {
   "cell_type": "code",
   "source": [
    "sns.heatmap(corr_mat.corr(),\n",
    "            annot=True,\n",
    "            vmin=-1,\n",
    "            vmax=1\n",
    "            )\n",
    "plt.show()"
   ],
   "metadata": {
    "collapsed": false,
    "ExecuteTime": {
     "end_time": "2024-04-18T08:52:02.883281Z",
     "start_time": "2024-04-18T08:52:01.765002Z"
    }
   },
   "id": "37d3df89ac08a5b4",
   "outputs": [
    {
     "data": {
      "text/plain": [
       "<Figure size 640x480 with 2 Axes>"
      ],
      "image/png": "[encoded data removed]"
     },
     "metadata": {},
     "output_type": "display_data"
    }
   ],
   "execution_count": 55
  }
 ],
 "metadata": {
  "kernelspec": {
   "display_name": "Python 3",
   "language": "python",
   "name": "python3"
  },
  "language_info": {
   "codemirror_mode": {
    "name": "ipython",
    "version": 2
   },
   "file_extension": ".py",
   "mimetype": "text/x-python",
   "name": "python",
   "nbconvert_exporter": "python",
   "pygments_lexer": "ipython2",
   "version": "2.7.6"
  }
 },
 "nbformat": 4,
 "nbformat_minor": 5
}
